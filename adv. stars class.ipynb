{
 "cells": [
  {
   "cell_type": "markdown",
   "metadata": {},
   "source": [
    "Know the dataset-"
   ]
  },
  {
   "cell_type": "markdown",
   "metadata": {},
   "source": [
    "obj_ID: Unique identifier for each astronomical object.\n",
    "\n",
    "alpha: Right ascension, which is the celestial equivalent of longitude.\n",
    "\n",
    "delta: Declination, which is the celestial equivalent of latitude.\n",
    "\n",
    "u: Ultraviolet magnitude, a measure of brightness in the ultraviolet range.\n",
    "\n",
    "g: Green magnitude, a measure of brightness in the green range.\n",
    "\n",
    "r: Red magnitude, a measure of brightness in the red range.\n",
    "\n",
    "i: Near-infrared magnitude, a measure of brightness in the near-infrared range.\n",
    "\n",
    "z: Infrared magnitude, a measure of brightness in the infrared range.\n",
    "\n",
    "run_ID: Identifier for the specific observational run.\n",
    "\n",
    "rerun_ID: Identifier for the reprocessing version of the data.\n",
    "\n",
    "cam_col: Camera column, indicating which CCD column the data was taken from.\n",
    "\n",
    "field_ID: Identifier for the field within the run.\n",
    "\n",
    "spec_obj_ID: Unique identifier for the spectroscopic object.\n",
    "\n",
    "class: Classification of the object (e.g., star, galaxy).\n",
    "\n",
    "redshift: Measure of how much the wavelength of the light has been stretched by the \n",
    "expansion of the universe.\n",
    "\n",
    "plate: Identifier for the spectroscopic plate.\n",
    "\n",
    "MJD: Modified Julian Date, which is a standard astronomical timekeeping format.\n",
    "\n",
    "fiber_ID: Identifier for the specific optical fiber used in the spectroscopic \n",
    "observation."
   ]
  },
  {
   "cell_type": "code",
   "execution_count": 1,
   "metadata": {},
   "outputs": [],
   "source": [
    "\n",
    "from pandas import  *\n",
    "from numpy import *\n",
    "from seaborn import *\n",
    "from matplotlib.pyplot import *\n",
    "from sklearn.linear_model import LinearRegression\n",
    "from sklearn.preprocessing import PolynomialFeatures\n",
    "from sklearn.preprocessing import LabelEncoder\n",
    "from sklearn.preprocessing import MinMaxScaler\n",
    "import tensorflow as tf\n",
    "from sklearn.model_selection import train_test_split\n",
    "from sklearn.preprocessing import StandardScaler\n",
    "from tensorflow.keras.models import Sequential\n",
    "from tensorflow.keras.layers import Dense,Dropout,Flatten,Conv2D,MaxPooling2D,LSTM\n",
    "from tensorflow.keras.callbacks import EarlyStopping\n",
    "from  lightgbm import *\n",
    "from catboost import CatBoostClassifier, CatBoostRegressor\n",
    "from xgboost import *\n"
   ]
  },
  {
   "cell_type": "code",
   "execution_count": 2,
   "metadata": {},
   "outputs": [],
   "source": [
    "df=read_csv('star_classification.csv')"
   ]
  },
  {
   "cell_type": "code",
   "execution_count": 3,
   "metadata": {},
   "outputs": [
    {
     "data": {
      "text/plain": [
       "Index(['obj_ID', 'alpha', 'delta', 'u', 'g', 'r', 'i', 'z', 'run_ID',\n",
       "       'rerun_ID', 'cam_col', 'field_ID', 'spec_obj_ID', 'class', 'redshift',\n",
       "       'plate', 'MJD', 'fiber_ID'],\n",
       "      dtype='object')"
      ]
     },
     "execution_count": 3,
     "metadata": {},
     "output_type": "execute_result"
    }
   ],
   "source": [
    "df.columns"
   ]
  },
  {
   "cell_type": "code",
   "execution_count": 4,
   "metadata": {},
   "outputs": [
    {
     "data": {
      "text/html": [
       "<div>\n",
       "<style scoped>\n",
       "    .dataframe tbody tr th:only-of-type {\n",
       "        vertical-align: middle;\n",
       "    }\n",
       "\n",
       "    .dataframe tbody tr th {\n",
       "        vertical-align: top;\n",
       "    }\n",
       "\n",
       "    .dataframe thead th {\n",
       "        text-align: right;\n",
       "    }\n",
       "</style>\n",
       "<table border=\"1\" class=\"dataframe\">\n",
       "  <thead>\n",
       "    <tr style=\"text-align: right;\">\n",
       "      <th></th>\n",
       "      <th>obj_ID</th>\n",
       "      <th>alpha</th>\n",
       "      <th>delta</th>\n",
       "      <th>u</th>\n",
       "      <th>g</th>\n",
       "      <th>r</th>\n",
       "      <th>i</th>\n",
       "      <th>z</th>\n",
       "      <th>run_ID</th>\n",
       "      <th>rerun_ID</th>\n",
       "      <th>cam_col</th>\n",
       "      <th>field_ID</th>\n",
       "      <th>spec_obj_ID</th>\n",
       "      <th>redshift</th>\n",
       "      <th>plate</th>\n",
       "      <th>MJD</th>\n",
       "      <th>fiber_ID</th>\n",
       "    </tr>\n",
       "  </thead>\n",
       "  <tbody>\n",
       "    <tr>\n",
       "      <th>count</th>\n",
       "      <td>1.000000e+05</td>\n",
       "      <td>100000.000000</td>\n",
       "      <td>100000.000000</td>\n",
       "      <td>100000.000000</td>\n",
       "      <td>100000.000000</td>\n",
       "      <td>100000.000000</td>\n",
       "      <td>100000.000000</td>\n",
       "      <td>100000.000000</td>\n",
       "      <td>100000.000000</td>\n",
       "      <td>100000.0</td>\n",
       "      <td>100000.000000</td>\n",
       "      <td>100000.000000</td>\n",
       "      <td>1.000000e+05</td>\n",
       "      <td>100000.000000</td>\n",
       "      <td>100000.000000</td>\n",
       "      <td>100000.000000</td>\n",
       "      <td>100000.000000</td>\n",
       "    </tr>\n",
       "    <tr>\n",
       "      <th>mean</th>\n",
       "      <td>1.237665e+18</td>\n",
       "      <td>177.629117</td>\n",
       "      <td>24.135305</td>\n",
       "      <td>21.980468</td>\n",
       "      <td>20.531387</td>\n",
       "      <td>19.645762</td>\n",
       "      <td>19.084854</td>\n",
       "      <td>18.668810</td>\n",
       "      <td>4481.366060</td>\n",
       "      <td>301.0</td>\n",
       "      <td>3.511610</td>\n",
       "      <td>186.130520</td>\n",
       "      <td>5.783882e+18</td>\n",
       "      <td>0.576661</td>\n",
       "      <td>5137.009660</td>\n",
       "      <td>55588.647500</td>\n",
       "      <td>449.312740</td>\n",
       "    </tr>\n",
       "    <tr>\n",
       "      <th>std</th>\n",
       "      <td>8.438560e+12</td>\n",
       "      <td>96.502241</td>\n",
       "      <td>19.644665</td>\n",
       "      <td>31.769291</td>\n",
       "      <td>31.750292</td>\n",
       "      <td>1.854760</td>\n",
       "      <td>1.757895</td>\n",
       "      <td>31.728152</td>\n",
       "      <td>1964.764593</td>\n",
       "      <td>0.0</td>\n",
       "      <td>1.586912</td>\n",
       "      <td>149.011073</td>\n",
       "      <td>3.324016e+18</td>\n",
       "      <td>0.730707</td>\n",
       "      <td>2952.303351</td>\n",
       "      <td>1808.484233</td>\n",
       "      <td>272.498404</td>\n",
       "    </tr>\n",
       "    <tr>\n",
       "      <th>min</th>\n",
       "      <td>1.237646e+18</td>\n",
       "      <td>0.005528</td>\n",
       "      <td>-18.785328</td>\n",
       "      <td>-9999.000000</td>\n",
       "      <td>-9999.000000</td>\n",
       "      <td>9.822070</td>\n",
       "      <td>9.469903</td>\n",
       "      <td>-9999.000000</td>\n",
       "      <td>109.000000</td>\n",
       "      <td>301.0</td>\n",
       "      <td>1.000000</td>\n",
       "      <td>11.000000</td>\n",
       "      <td>2.995191e+17</td>\n",
       "      <td>-0.009971</td>\n",
       "      <td>266.000000</td>\n",
       "      <td>51608.000000</td>\n",
       "      <td>1.000000</td>\n",
       "    </tr>\n",
       "    <tr>\n",
       "      <th>25%</th>\n",
       "      <td>1.237659e+18</td>\n",
       "      <td>127.518222</td>\n",
       "      <td>5.146771</td>\n",
       "      <td>20.352353</td>\n",
       "      <td>18.965230</td>\n",
       "      <td>18.135828</td>\n",
       "      <td>17.732285</td>\n",
       "      <td>17.460677</td>\n",
       "      <td>3187.000000</td>\n",
       "      <td>301.0</td>\n",
       "      <td>2.000000</td>\n",
       "      <td>82.000000</td>\n",
       "      <td>2.844138e+18</td>\n",
       "      <td>0.054517</td>\n",
       "      <td>2526.000000</td>\n",
       "      <td>54234.000000</td>\n",
       "      <td>221.000000</td>\n",
       "    </tr>\n",
       "    <tr>\n",
       "      <th>50%</th>\n",
       "      <td>1.237663e+18</td>\n",
       "      <td>180.900700</td>\n",
       "      <td>23.645922</td>\n",
       "      <td>22.179135</td>\n",
       "      <td>21.099835</td>\n",
       "      <td>20.125290</td>\n",
       "      <td>19.405145</td>\n",
       "      <td>19.004595</td>\n",
       "      <td>4188.000000</td>\n",
       "      <td>301.0</td>\n",
       "      <td>4.000000</td>\n",
       "      <td>146.000000</td>\n",
       "      <td>5.614883e+18</td>\n",
       "      <td>0.424173</td>\n",
       "      <td>4987.000000</td>\n",
       "      <td>55868.500000</td>\n",
       "      <td>433.000000</td>\n",
       "    </tr>\n",
       "    <tr>\n",
       "      <th>75%</th>\n",
       "      <td>1.237668e+18</td>\n",
       "      <td>233.895005</td>\n",
       "      <td>39.901550</td>\n",
       "      <td>23.687440</td>\n",
       "      <td>22.123767</td>\n",
       "      <td>21.044785</td>\n",
       "      <td>20.396495</td>\n",
       "      <td>19.921120</td>\n",
       "      <td>5326.000000</td>\n",
       "      <td>301.0</td>\n",
       "      <td>5.000000</td>\n",
       "      <td>241.000000</td>\n",
       "      <td>8.332144e+18</td>\n",
       "      <td>0.704154</td>\n",
       "      <td>7400.250000</td>\n",
       "      <td>56777.000000</td>\n",
       "      <td>645.000000</td>\n",
       "    </tr>\n",
       "    <tr>\n",
       "      <th>max</th>\n",
       "      <td>1.237681e+18</td>\n",
       "      <td>359.999810</td>\n",
       "      <td>83.000519</td>\n",
       "      <td>32.781390</td>\n",
       "      <td>31.602240</td>\n",
       "      <td>29.571860</td>\n",
       "      <td>32.141470</td>\n",
       "      <td>29.383740</td>\n",
       "      <td>8162.000000</td>\n",
       "      <td>301.0</td>\n",
       "      <td>6.000000</td>\n",
       "      <td>989.000000</td>\n",
       "      <td>1.412694e+19</td>\n",
       "      <td>7.011245</td>\n",
       "      <td>12547.000000</td>\n",
       "      <td>58932.000000</td>\n",
       "      <td>1000.000000</td>\n",
       "    </tr>\n",
       "  </tbody>\n",
       "</table>\n",
       "</div>"
      ],
      "text/plain": [
       "             obj_ID          alpha          delta              u  \\\n",
       "count  1.000000e+05  100000.000000  100000.000000  100000.000000   \n",
       "mean   1.237665e+18     177.629117      24.135305      21.980468   \n",
       "std    8.438560e+12      96.502241      19.644665      31.769291   \n",
       "min    1.237646e+18       0.005528     -18.785328   -9999.000000   \n",
       "25%    1.237659e+18     127.518222       5.146771      20.352353   \n",
       "50%    1.237663e+18     180.900700      23.645922      22.179135   \n",
       "75%    1.237668e+18     233.895005      39.901550      23.687440   \n",
       "max    1.237681e+18     359.999810      83.000519      32.781390   \n",
       "\n",
       "                   g              r              i              z  \\\n",
       "count  100000.000000  100000.000000  100000.000000  100000.000000   \n",
       "mean       20.531387      19.645762      19.084854      18.668810   \n",
       "std        31.750292       1.854760       1.757895      31.728152   \n",
       "min     -9999.000000       9.822070       9.469903   -9999.000000   \n",
       "25%        18.965230      18.135828      17.732285      17.460677   \n",
       "50%        21.099835      20.125290      19.405145      19.004595   \n",
       "75%        22.123767      21.044785      20.396495      19.921120   \n",
       "max        31.602240      29.571860      32.141470      29.383740   \n",
       "\n",
       "              run_ID  rerun_ID        cam_col       field_ID   spec_obj_ID  \\\n",
       "count  100000.000000  100000.0  100000.000000  100000.000000  1.000000e+05   \n",
       "mean     4481.366060     301.0       3.511610     186.130520  5.783882e+18   \n",
       "std      1964.764593       0.0       1.586912     149.011073  3.324016e+18   \n",
       "min       109.000000     301.0       1.000000      11.000000  2.995191e+17   \n",
       "25%      3187.000000     301.0       2.000000      82.000000  2.844138e+18   \n",
       "50%      4188.000000     301.0       4.000000     146.000000  5.614883e+18   \n",
       "75%      5326.000000     301.0       5.000000     241.000000  8.332144e+18   \n",
       "max      8162.000000     301.0       6.000000     989.000000  1.412694e+19   \n",
       "\n",
       "            redshift          plate            MJD       fiber_ID  \n",
       "count  100000.000000  100000.000000  100000.000000  100000.000000  \n",
       "mean        0.576661    5137.009660   55588.647500     449.312740  \n",
       "std         0.730707    2952.303351    1808.484233     272.498404  \n",
       "min        -0.009971     266.000000   51608.000000       1.000000  \n",
       "25%         0.054517    2526.000000   54234.000000     221.000000  \n",
       "50%         0.424173    4987.000000   55868.500000     433.000000  \n",
       "75%         0.704154    7400.250000   56777.000000     645.000000  \n",
       "max         7.011245   12547.000000   58932.000000    1000.000000  "
      ]
     },
     "execution_count": 4,
     "metadata": {},
     "output_type": "execute_result"
    }
   ],
   "source": [
    "df.describe()"
   ]
  },
  {
   "cell_type": "code",
   "execution_count": 5,
   "metadata": {},
   "outputs": [
    {
     "data": {
      "text/plain": [
       "obj_ID         0\n",
       "alpha          0\n",
       "delta          0\n",
       "u              0\n",
       "g              0\n",
       "r              0\n",
       "i              0\n",
       "z              0\n",
       "run_ID         0\n",
       "rerun_ID       0\n",
       "cam_col        0\n",
       "field_ID       0\n",
       "spec_obj_ID    0\n",
       "class          0\n",
       "redshift       0\n",
       "plate          0\n",
       "MJD            0\n",
       "fiber_ID       0\n",
       "dtype: int64"
      ]
     },
     "execution_count": 5,
     "metadata": {},
     "output_type": "execute_result"
    }
   ],
   "source": [
    "df.isnull().sum()"
   ]
  },
  {
   "cell_type": "code",
   "execution_count": 6,
   "metadata": {},
   "outputs": [],
   "source": [
    "x=df[['alpha', 'delta', 'u', 'g', 'r', 'i', 'z', 'redshift',\n",
    "       'plate', 'MJD']]"
   ]
  },
  {
   "cell_type": "code",
   "execution_count": 7,
   "metadata": {},
   "outputs": [
    {
     "data": {
      "text/html": [
       "<div>\n",
       "<style scoped>\n",
       "    .dataframe tbody tr th:only-of-type {\n",
       "        vertical-align: middle;\n",
       "    }\n",
       "\n",
       "    .dataframe tbody tr th {\n",
       "        vertical-align: top;\n",
       "    }\n",
       "\n",
       "    .dataframe thead th {\n",
       "        text-align: right;\n",
       "    }\n",
       "</style>\n",
       "<table border=\"1\" class=\"dataframe\">\n",
       "  <thead>\n",
       "    <tr style=\"text-align: right;\">\n",
       "      <th></th>\n",
       "      <th>alpha</th>\n",
       "      <th>delta</th>\n",
       "      <th>u</th>\n",
       "      <th>g</th>\n",
       "      <th>r</th>\n",
       "      <th>i</th>\n",
       "      <th>z</th>\n",
       "      <th>redshift</th>\n",
       "      <th>plate</th>\n",
       "      <th>MJD</th>\n",
       "    </tr>\n",
       "  </thead>\n",
       "  <tbody>\n",
       "    <tr>\n",
       "      <th>0</th>\n",
       "      <td>135.689107</td>\n",
       "      <td>32.494632</td>\n",
       "      <td>23.87882</td>\n",
       "      <td>22.27530</td>\n",
       "      <td>20.39501</td>\n",
       "      <td>19.16573</td>\n",
       "      <td>18.79371</td>\n",
       "      <td>0.634794</td>\n",
       "      <td>5812</td>\n",
       "      <td>56354</td>\n",
       "    </tr>\n",
       "    <tr>\n",
       "      <th>1</th>\n",
       "      <td>144.826101</td>\n",
       "      <td>31.274185</td>\n",
       "      <td>24.77759</td>\n",
       "      <td>22.83188</td>\n",
       "      <td>22.58444</td>\n",
       "      <td>21.16812</td>\n",
       "      <td>21.61427</td>\n",
       "      <td>0.779136</td>\n",
       "      <td>10445</td>\n",
       "      <td>58158</td>\n",
       "    </tr>\n",
       "    <tr>\n",
       "      <th>2</th>\n",
       "      <td>142.188790</td>\n",
       "      <td>35.582444</td>\n",
       "      <td>25.26307</td>\n",
       "      <td>22.66389</td>\n",
       "      <td>20.60976</td>\n",
       "      <td>19.34857</td>\n",
       "      <td>18.94827</td>\n",
       "      <td>0.644195</td>\n",
       "      <td>4576</td>\n",
       "      <td>55592</td>\n",
       "    </tr>\n",
       "    <tr>\n",
       "      <th>3</th>\n",
       "      <td>338.741038</td>\n",
       "      <td>-0.402828</td>\n",
       "      <td>22.13682</td>\n",
       "      <td>23.77656</td>\n",
       "      <td>21.61162</td>\n",
       "      <td>20.50454</td>\n",
       "      <td>19.25010</td>\n",
       "      <td>0.932346</td>\n",
       "      <td>9149</td>\n",
       "      <td>58039</td>\n",
       "    </tr>\n",
       "    <tr>\n",
       "      <th>4</th>\n",
       "      <td>345.282593</td>\n",
       "      <td>21.183866</td>\n",
       "      <td>19.43718</td>\n",
       "      <td>17.58028</td>\n",
       "      <td>16.49747</td>\n",
       "      <td>15.97711</td>\n",
       "      <td>15.54461</td>\n",
       "      <td>0.116123</td>\n",
       "      <td>6121</td>\n",
       "      <td>56187</td>\n",
       "    </tr>\n",
       "  </tbody>\n",
       "</table>\n",
       "</div>"
      ],
      "text/plain": [
       "        alpha      delta         u         g         r         i         z  \\\n",
       "0  135.689107  32.494632  23.87882  22.27530  20.39501  19.16573  18.79371   \n",
       "1  144.826101  31.274185  24.77759  22.83188  22.58444  21.16812  21.61427   \n",
       "2  142.188790  35.582444  25.26307  22.66389  20.60976  19.34857  18.94827   \n",
       "3  338.741038  -0.402828  22.13682  23.77656  21.61162  20.50454  19.25010   \n",
       "4  345.282593  21.183866  19.43718  17.58028  16.49747  15.97711  15.54461   \n",
       "\n",
       "   redshift  plate    MJD  \n",
       "0  0.634794   5812  56354  \n",
       "1  0.779136  10445  58158  \n",
       "2  0.644195   4576  55592  \n",
       "3  0.932346   9149  58039  \n",
       "4  0.116123   6121  56187  "
      ]
     },
     "execution_count": 7,
     "metadata": {},
     "output_type": "execute_result"
    }
   ],
   "source": [
    "x.head()"
   ]
  },
  {
   "cell_type": "markdown",
   "metadata": {},
   "source": [
    " scaling the data would be better"
   ]
  },
  {
   "cell_type": "code",
   "execution_count": 8,
   "metadata": {},
   "outputs": [
    {
     "data": {
      "text/plain": [
       "'scaler=StandardScaler()\\nx=scaler.fit_transform(x)'"
      ]
     },
     "execution_count": 8,
     "metadata": {},
     "output_type": "execute_result"
    }
   ],
   "source": [
    "'''scaler=StandardScaler()\n",
    "x=scaler.fit_transform(x)'''"
   ]
  },
  {
   "cell_type": "code",
   "execution_count": 9,
   "metadata": {},
   "outputs": [
    {
     "data": {
      "text/html": [
       "<div>\n",
       "<style scoped>\n",
       "    .dataframe tbody tr th:only-of-type {\n",
       "        vertical-align: middle;\n",
       "    }\n",
       "\n",
       "    .dataframe tbody tr th {\n",
       "        vertical-align: top;\n",
       "    }\n",
       "\n",
       "    .dataframe thead th {\n",
       "        text-align: right;\n",
       "    }\n",
       "</style>\n",
       "<table border=\"1\" class=\"dataframe\">\n",
       "  <thead>\n",
       "    <tr style=\"text-align: right;\">\n",
       "      <th></th>\n",
       "      <th>alpha</th>\n",
       "      <th>delta</th>\n",
       "      <th>u</th>\n",
       "      <th>g</th>\n",
       "      <th>r</th>\n",
       "      <th>i</th>\n",
       "      <th>z</th>\n",
       "      <th>redshift</th>\n",
       "      <th>plate</th>\n",
       "      <th>MJD</th>\n",
       "    </tr>\n",
       "  </thead>\n",
       "  <tbody>\n",
       "    <tr>\n",
       "      <th>0</th>\n",
       "      <td>135.689107</td>\n",
       "      <td>32.494632</td>\n",
       "      <td>23.87882</td>\n",
       "      <td>22.27530</td>\n",
       "      <td>20.39501</td>\n",
       "      <td>19.16573</td>\n",
       "      <td>18.79371</td>\n",
       "      <td>0.634794</td>\n",
       "      <td>5812</td>\n",
       "      <td>56354</td>\n",
       "    </tr>\n",
       "    <tr>\n",
       "      <th>1</th>\n",
       "      <td>144.826101</td>\n",
       "      <td>31.274185</td>\n",
       "      <td>24.77759</td>\n",
       "      <td>22.83188</td>\n",
       "      <td>22.58444</td>\n",
       "      <td>21.16812</td>\n",
       "      <td>21.61427</td>\n",
       "      <td>0.779136</td>\n",
       "      <td>10445</td>\n",
       "      <td>58158</td>\n",
       "    </tr>\n",
       "    <tr>\n",
       "      <th>2</th>\n",
       "      <td>142.188790</td>\n",
       "      <td>35.582444</td>\n",
       "      <td>25.26307</td>\n",
       "      <td>22.66389</td>\n",
       "      <td>20.60976</td>\n",
       "      <td>19.34857</td>\n",
       "      <td>18.94827</td>\n",
       "      <td>0.644195</td>\n",
       "      <td>4576</td>\n",
       "      <td>55592</td>\n",
       "    </tr>\n",
       "    <tr>\n",
       "      <th>3</th>\n",
       "      <td>338.741038</td>\n",
       "      <td>-0.402828</td>\n",
       "      <td>22.13682</td>\n",
       "      <td>23.77656</td>\n",
       "      <td>21.61162</td>\n",
       "      <td>20.50454</td>\n",
       "      <td>19.25010</td>\n",
       "      <td>0.932346</td>\n",
       "      <td>9149</td>\n",
       "      <td>58039</td>\n",
       "    </tr>\n",
       "    <tr>\n",
       "      <th>4</th>\n",
       "      <td>345.282593</td>\n",
       "      <td>21.183866</td>\n",
       "      <td>19.43718</td>\n",
       "      <td>17.58028</td>\n",
       "      <td>16.49747</td>\n",
       "      <td>15.97711</td>\n",
       "      <td>15.54461</td>\n",
       "      <td>0.116123</td>\n",
       "      <td>6121</td>\n",
       "      <td>56187</td>\n",
       "    </tr>\n",
       "    <tr>\n",
       "      <th>...</th>\n",
       "      <td>...</td>\n",
       "      <td>...</td>\n",
       "      <td>...</td>\n",
       "      <td>...</td>\n",
       "      <td>...</td>\n",
       "      <td>...</td>\n",
       "      <td>...</td>\n",
       "      <td>...</td>\n",
       "      <td>...</td>\n",
       "      <td>...</td>\n",
       "    </tr>\n",
       "    <tr>\n",
       "      <th>99995</th>\n",
       "      <td>39.620709</td>\n",
       "      <td>-2.594074</td>\n",
       "      <td>22.16759</td>\n",
       "      <td>22.97586</td>\n",
       "      <td>21.90404</td>\n",
       "      <td>21.30548</td>\n",
       "      <td>20.73569</td>\n",
       "      <td>0.000000</td>\n",
       "      <td>9374</td>\n",
       "      <td>57749</td>\n",
       "    </tr>\n",
       "    <tr>\n",
       "      <th>99996</th>\n",
       "      <td>29.493819</td>\n",
       "      <td>19.798874</td>\n",
       "      <td>22.69118</td>\n",
       "      <td>22.38628</td>\n",
       "      <td>20.45003</td>\n",
       "      <td>19.75759</td>\n",
       "      <td>19.41526</td>\n",
       "      <td>0.404895</td>\n",
       "      <td>7626</td>\n",
       "      <td>56934</td>\n",
       "    </tr>\n",
       "    <tr>\n",
       "      <th>99997</th>\n",
       "      <td>224.587407</td>\n",
       "      <td>15.700707</td>\n",
       "      <td>21.16916</td>\n",
       "      <td>19.26997</td>\n",
       "      <td>18.20428</td>\n",
       "      <td>17.69034</td>\n",
       "      <td>17.35221</td>\n",
       "      <td>0.143366</td>\n",
       "      <td>2764</td>\n",
       "      <td>54535</td>\n",
       "    </tr>\n",
       "    <tr>\n",
       "      <th>99998</th>\n",
       "      <td>212.268621</td>\n",
       "      <td>46.660365</td>\n",
       "      <td>25.35039</td>\n",
       "      <td>21.63757</td>\n",
       "      <td>19.91386</td>\n",
       "      <td>19.07254</td>\n",
       "      <td>18.62482</td>\n",
       "      <td>0.455040</td>\n",
       "      <td>6751</td>\n",
       "      <td>56368</td>\n",
       "    </tr>\n",
       "    <tr>\n",
       "      <th>99999</th>\n",
       "      <td>196.896053</td>\n",
       "      <td>49.464643</td>\n",
       "      <td>22.62171</td>\n",
       "      <td>21.79745</td>\n",
       "      <td>20.60115</td>\n",
       "      <td>20.00959</td>\n",
       "      <td>19.28075</td>\n",
       "      <td>0.542944</td>\n",
       "      <td>7410</td>\n",
       "      <td>57104</td>\n",
       "    </tr>\n",
       "  </tbody>\n",
       "</table>\n",
       "<p>100000 rows × 10 columns</p>\n",
       "</div>"
      ],
      "text/plain": [
       "            alpha      delta         u         g         r         i  \\\n",
       "0      135.689107  32.494632  23.87882  22.27530  20.39501  19.16573   \n",
       "1      144.826101  31.274185  24.77759  22.83188  22.58444  21.16812   \n",
       "2      142.188790  35.582444  25.26307  22.66389  20.60976  19.34857   \n",
       "3      338.741038  -0.402828  22.13682  23.77656  21.61162  20.50454   \n",
       "4      345.282593  21.183866  19.43718  17.58028  16.49747  15.97711   \n",
       "...           ...        ...       ...       ...       ...       ...   \n",
       "99995   39.620709  -2.594074  22.16759  22.97586  21.90404  21.30548   \n",
       "99996   29.493819  19.798874  22.69118  22.38628  20.45003  19.75759   \n",
       "99997  224.587407  15.700707  21.16916  19.26997  18.20428  17.69034   \n",
       "99998  212.268621  46.660365  25.35039  21.63757  19.91386  19.07254   \n",
       "99999  196.896053  49.464643  22.62171  21.79745  20.60115  20.00959   \n",
       "\n",
       "              z  redshift  plate    MJD  \n",
       "0      18.79371  0.634794   5812  56354  \n",
       "1      21.61427  0.779136  10445  58158  \n",
       "2      18.94827  0.644195   4576  55592  \n",
       "3      19.25010  0.932346   9149  58039  \n",
       "4      15.54461  0.116123   6121  56187  \n",
       "...         ...       ...    ...    ...  \n",
       "99995  20.73569  0.000000   9374  57749  \n",
       "99996  19.41526  0.404895   7626  56934  \n",
       "99997  17.35221  0.143366   2764  54535  \n",
       "99998  18.62482  0.455040   6751  56368  \n",
       "99999  19.28075  0.542944   7410  57104  \n",
       "\n",
       "[100000 rows x 10 columns]"
      ]
     },
     "execution_count": 9,
     "metadata": {},
     "output_type": "execute_result"
    }
   ],
   "source": [
    "x"
   ]
  },
  {
   "cell_type": "code",
   "execution_count": 10,
   "metadata": {},
   "outputs": [],
   "source": [
    "y=df[['class']]"
   ]
  },
  {
   "cell_type": "code",
   "execution_count": 11,
   "metadata": {},
   "outputs": [],
   "source": [
    "from sklearn.model_selection import train_test_split\n",
    "x_train,x_test,y_train,y_test=train_test_split(x,y,test_size=0.2,random_state=1)"
   ]
  },
  {
   "cell_type": "markdown",
   "metadata": {},
   "source": [
    "RF"
   ]
  },
  {
   "cell_type": "code",
   "execution_count": 12,
   "metadata": {},
   "outputs": [
    {
     "ename": "SyntaxError",
     "evalue": "incomplete input (18543511.py, line 1)",
     "output_type": "error",
     "traceback": [
      "\u001b[1;36m  Cell \u001b[1;32mIn[12], line 1\u001b[1;36m\u001b[0m\n\u001b[1;33m    '''from sklearn.ensemble import RandomForestClassifier\u001b[0m\n\u001b[1;37m    ^\u001b[0m\n\u001b[1;31mSyntaxError\u001b[0m\u001b[1;31m:\u001b[0m incomplete input\n"
     ]
    }
   ],
   "source": [
    "'''from sklearn.ensemble import RandomForestClassifier\n",
    "r=RandomForestClassifier(n_estimators=100)\n",
    "r.fit(x_train,y_train)"
   ]
  },
  {
   "cell_type": "code",
   "execution_count": null,
   "metadata": {},
   "outputs": [
    {
     "data": {
      "text/plain": [
       "0.9999875"
      ]
     },
     "execution_count": 12,
     "metadata": {},
     "output_type": "execute_result"
    }
   ],
   "source": [
    "r.score(x_train,y_train)"
   ]
  },
  {
   "cell_type": "code",
   "execution_count": null,
   "metadata": {},
   "outputs": [
    {
     "data": {
      "text/plain": [
       "0.98125"
      ]
     },
     "execution_count": 13,
     "metadata": {},
     "output_type": "execute_result"
    }
   ],
   "source": [
    "r.score(x_test,y_test)"
   ]
  },
  {
   "cell_type": "code",
   "execution_count": null,
   "metadata": {},
   "outputs": [
    {
     "name": "stderr",
     "output_type": "stream",
     "text": [
      "c:\\Users\\debna\\anaconda3\\Lib\\site-packages\\sklearn\\base.py:493: UserWarning: X does not have valid feature names, but RandomForestClassifier was fitted with feature names\n",
      "  warnings.warn(\n"
     ]
    },
    {
     "data": {
      "text/plain": [
       "array(['QSO'], dtype=object)"
      ]
     },
     "execution_count": 14,
     "metadata": {},
     "output_type": "execute_result"
    }
   ],
   "source": [
    "r.predict([[\n",
    "228.447728334265,12.745031931428,22.36261,21.7106,21.5963,21.60179,21.12727,2.689002,5488,56013\n",
    "]])\n"
   ]
  },
  {
   "cell_type": "code",
   "execution_count": null,
   "metadata": {},
   "outputs": [
    {
     "name": "stderr",
     "output_type": "stream",
     "text": [
      "c:\\Users\\debna\\anaconda3\\Lib\\site-packages\\sklearn\\base.py:493: UserWarning: X does not have valid feature names, but RandomForestClassifier was fitted with feature names\n",
      "  warnings.warn(\n"
     ]
    },
    {
     "data": {
      "text/plain": [
       "array(['GALAXY'], dtype=object)"
      ]
     },
     "execution_count": 15,
     "metadata": {},
     "output_type": "execute_result"
    }
   ],
   "source": [
    "r.predict([[ 40.7957426727124,3.56436811387184,22.79262,22.29579,22.23841,21.55672,21.01273,1.065883,9417,58055\n",
    "]])"
   ]
  },
  {
   "cell_type": "code",
   "execution_count": null,
   "metadata": {},
   "outputs": [
    {
     "name": "stderr",
     "output_type": "stream",
     "text": [
      "c:\\Users\\debna\\anaconda3\\Lib\\site-packages\\sklearn\\base.py:493: UserWarning: X does not have valid feature names, but RandomForestClassifier was fitted with feature names\n",
      "  warnings.warn(\n"
     ]
    },
    {
     "data": {
      "text/plain": [
       "array(['STAR'], dtype=object)"
      ]
     },
     "execution_count": 16,
     "metadata": {},
     "output_type": "execute_result"
    }
   ],
   "source": [
    "r.predict([[\n",
    "169.41723647266,7.71984985397181,25.08139,22.03635,21.83119,21.71758,21.24758,0.0002660389,5369,56272\n",
    "]])"
   ]
  },
  {
   "cell_type": "code",
   "execution_count": null,
   "metadata": {},
   "outputs": [
    {
     "data": {
      "text/plain": [
       "\"#saving The Models\\nimport joblib\\njoblib.dump(r,'RF_adv_stars_class.pkl')\\n\\n#loading The models anywhere\\n\\nmodel=joblib.load('RF_adv_stars_class.pkl')\""
      ]
     },
     "execution_count": 17,
     "metadata": {},
     "output_type": "execute_result"
    }
   ],
   "source": [
    "'''#saving The Models\n",
    "import joblib\n",
    "joblib.dump(r,'RF_adv_stars_class.pkl')\n",
    "\n",
    "#loading The models anywhere\n",
    "\n",
    "model=joblib.load('RF_adv_stars_class.pkl')'''"
   ]
  },
  {
   "cell_type": "markdown",
   "metadata": {},
   "source": [
    "GBoost"
   ]
  },
  {
   "cell_type": "code",
   "execution_count": null,
   "metadata": {},
   "outputs": [
    {
     "name": "stderr",
     "output_type": "stream",
     "text": [
      "c:\\Users\\debna\\anaconda3\\Lib\\site-packages\\sklearn\\preprocessing\\_label.py:114: DataConversionWarning: A column-vector y was passed when a 1d array was expected. Please change the shape of y to (n_samples, ), for example using ravel().\n",
      "  y = column_or_1d(y, warn=True)\n"
     ]
    }
   ],
   "source": [
    "from sklearn.ensemble import GradientBoostingClassifier\n",
    "g=GradientBoostingClassifier(n_estimators=100)\n",
    "g.fit(x_train,y_train)"
   ]
  },
  {
   "cell_type": "code",
   "execution_count": null,
   "metadata": {},
   "outputs": [
    {
     "data": {
      "text/plain": [
       "0.9774125"
      ]
     },
     "execution_count": 95,
     "metadata": {},
     "output_type": "execute_result"
    }
   ],
   "source": [
    "g.score(x_train,y_train)"
   ]
  },
  {
   "cell_type": "code",
   "execution_count": null,
   "metadata": {},
   "outputs": [
    {
     "data": {
      "text/plain": [
       "0.9783"
      ]
     },
     "execution_count": 96,
     "metadata": {},
     "output_type": "execute_result"
    }
   ],
   "source": [
    "g.score(x_test,y_test)"
   ]
  },
  {
   "cell_type": "code",
   "execution_count": null,
   "metadata": {},
   "outputs": [
    {
     "name": "stderr",
     "output_type": "stream",
     "text": [
      "c:\\Users\\debna\\anaconda3\\Lib\\site-packages\\sklearn\\base.py:439: UserWarning: X does not have valid feature names, but GradientBoostingClassifier was fitted with feature names\n",
      "  warnings.warn(\n"
     ]
    },
    {
     "data": {
      "text/plain": [
       "array(['QSO'], dtype=object)"
      ]
     },
     "execution_count": 97,
     "metadata": {},
     "output_type": "execute_result"
    }
   ],
   "source": [
    "g.predict([[\n",
    "228.447728334265,12.745031931428,22.36261,21.7106,21.5963,21.60179,21.12727,2.689002,5488,56013\n",
    "]])\n"
   ]
  },
  {
   "cell_type": "code",
   "execution_count": null,
   "metadata": {},
   "outputs": [
    {
     "name": "stderr",
     "output_type": "stream",
     "text": [
      "c:\\Users\\debna\\anaconda3\\Lib\\site-packages\\sklearn\\base.py:439: UserWarning: X does not have valid feature names, but GradientBoostingClassifier was fitted with feature names\n",
      "  warnings.warn(\n"
     ]
    },
    {
     "data": {
      "text/plain": [
       "array(['GALAXY'], dtype=object)"
      ]
     },
     "execution_count": 98,
     "metadata": {},
     "output_type": "execute_result"
    }
   ],
   "source": [
    "g.predict([[ 40.7957426727124,3.56436811387184,22.79262,22.29579,22.23841,21.55672,21.01273,1.065883,9417,58055\n",
    "]])"
   ]
  },
  {
   "cell_type": "code",
   "execution_count": null,
   "metadata": {},
   "outputs": [
    {
     "name": "stderr",
     "output_type": "stream",
     "text": [
      "c:\\Users\\debna\\anaconda3\\Lib\\site-packages\\sklearn\\base.py:439: UserWarning: X does not have valid feature names, but GradientBoostingClassifier was fitted with feature names\n",
      "  warnings.warn(\n"
     ]
    },
    {
     "data": {
      "text/plain": [
       "array(['STAR'], dtype=object)"
      ]
     },
     "execution_count": 99,
     "metadata": {},
     "output_type": "execute_result"
    }
   ],
   "source": [
    "g.predict([[\n",
    "169.41723647266,7.71984985397181,25.08139,22.03635,21.83119,21.71758,21.24758,0.0002660389,5369,56272\n",
    "]])"
   ]
  },
  {
   "cell_type": "code",
   "execution_count": null,
   "metadata": {},
   "outputs": [],
   "source": [
    "'''#saving The Models\n",
    "import joblib\n",
    "joblib.dump(g,'GBoost_adv_stars_class.pkl')\n",
    "\n",
    "#loading The models anywhere\n",
    "\n",
    "model=joblib.load('GBoost_adv_stars_class.pkl')'''"
   ]
  },
  {
   "cell_type": "code",
   "execution_count": null,
   "metadata": {},
   "outputs": [],
   "source": [
    "# XGBoost: Known for its speed and performance.\n",
    "# LightGBM: Optimized for speed and efficiency, especially with large datasets.\n",
    "# CatBoost: Handles categorical features effectively and reduces the need for extensive preprocessing."
   ]
  },
  {
   "cell_type": "markdown",
   "metadata": {},
   "source": [
    "LightGBM - LGBMClassifier / LGBMRegressor"
   ]
  },
  {
   "cell_type": "code",
   "execution_count": null,
   "metadata": {},
   "outputs": [
    {
     "name": "stderr",
     "output_type": "stream",
     "text": [
      "c:\\Users\\debna\\anaconda3\\Lib\\site-packages\\sklearn\\preprocessing\\_label.py:99: DataConversionWarning: A column-vector y was passed when a 1d array was expected. Please change the shape of y to (n_samples, ), for example using ravel().\n",
      "  y = column_or_1d(y, warn=True)\n",
      "c:\\Users\\debna\\anaconda3\\Lib\\site-packages\\sklearn\\preprocessing\\_label.py:134: DataConversionWarning: A column-vector y was passed when a 1d array was expected. Please change the shape of y to (n_samples, ), for example using ravel().\n",
      "  y = column_or_1d(y, dtype=self.classes_.dtype, warn=True)\n"
     ]
    },
    {
     "name": "stdout",
     "output_type": "stream",
     "text": [
      "[LightGBM] [Info] Auto-choosing col-wise multi-threading, the overhead of testing was 0.003233 seconds.\n",
      "You can set `force_col_wise=true` to remove the overhead.\n",
      "[LightGBM] [Info] Total Bins 2550\n",
      "[LightGBM] [Info] Number of data points in the train set: 80000, number of used features: 10\n",
      "[LightGBM] [Info] Start training from score -0.519740\n",
      "[LightGBM] [Info] Start training from score -1.664686\n",
      "[LightGBM] [Info] Start training from score -1.532130\n"
     ]
    },
    {
     "data": {
      "text/html": [
       "<style>#sk-container-id-7 {color: black;background-color: white;}#sk-container-id-7 pre{padding: 0;}#sk-container-id-7 div.sk-toggleable {background-color: white;}#sk-container-id-7 label.sk-toggleable__label {cursor: pointer;display: block;width: 100%;margin-bottom: 0;padding: 0.3em;box-sizing: border-box;text-align: center;}#sk-container-id-7 label.sk-toggleable__label-arrow:before {content: \"▸\";float: left;margin-right: 0.25em;color: #696969;}#sk-container-id-7 label.sk-toggleable__label-arrow:hover:before {color: black;}#sk-container-id-7 div.sk-estimator:hover label.sk-toggleable__label-arrow:before {color: black;}#sk-container-id-7 div.sk-toggleable__content {max-height: 0;max-width: 0;overflow: hidden;text-align: left;background-color: #f0f8ff;}#sk-container-id-7 div.sk-toggleable__content pre {margin: 0.2em;color: black;border-radius: 0.25em;background-color: #f0f8ff;}#sk-container-id-7 input.sk-toggleable__control:checked~div.sk-toggleable__content {max-height: 200px;max-width: 100%;overflow: auto;}#sk-container-id-7 input.sk-toggleable__control:checked~label.sk-toggleable__label-arrow:before {content: \"▾\";}#sk-container-id-7 div.sk-estimator input.sk-toggleable__control:checked~label.sk-toggleable__label {background-color: #d4ebff;}#sk-container-id-7 div.sk-label input.sk-toggleable__control:checked~label.sk-toggleable__label {background-color: #d4ebff;}#sk-container-id-7 input.sk-hidden--visually {border: 0;clip: rect(1px 1px 1px 1px);clip: rect(1px, 1px, 1px, 1px);height: 1px;margin: -1px;overflow: hidden;padding: 0;position: absolute;width: 1px;}#sk-container-id-7 div.sk-estimator {font-family: monospace;background-color: #f0f8ff;border: 1px dotted black;border-radius: 0.25em;box-sizing: border-box;margin-bottom: 0.5em;}#sk-container-id-7 div.sk-estimator:hover {background-color: #d4ebff;}#sk-container-id-7 div.sk-parallel-item::after {content: \"\";width: 100%;border-bottom: 1px solid gray;flex-grow: 1;}#sk-container-id-7 div.sk-label:hover label.sk-toggleable__label {background-color: #d4ebff;}#sk-container-id-7 div.sk-serial::before {content: \"\";position: absolute;border-left: 1px solid gray;box-sizing: border-box;top: 0;bottom: 0;left: 50%;z-index: 0;}#sk-container-id-7 div.sk-serial {display: flex;flex-direction: column;align-items: center;background-color: white;padding-right: 0.2em;padding-left: 0.2em;position: relative;}#sk-container-id-7 div.sk-item {position: relative;z-index: 1;}#sk-container-id-7 div.sk-parallel {display: flex;align-items: stretch;justify-content: center;background-color: white;position: relative;}#sk-container-id-7 div.sk-item::before, #sk-container-id-7 div.sk-parallel-item::before {content: \"\";position: absolute;border-left: 1px solid gray;box-sizing: border-box;top: 0;bottom: 0;left: 50%;z-index: -1;}#sk-container-id-7 div.sk-parallel-item {display: flex;flex-direction: column;z-index: 1;position: relative;background-color: white;}#sk-container-id-7 div.sk-parallel-item:first-child::after {align-self: flex-end;width: 50%;}#sk-container-id-7 div.sk-parallel-item:last-child::after {align-self: flex-start;width: 50%;}#sk-container-id-7 div.sk-parallel-item:only-child::after {width: 0;}#sk-container-id-7 div.sk-dashed-wrapped {border: 1px dashed gray;margin: 0 0.4em 0.5em 0.4em;box-sizing: border-box;padding-bottom: 0.4em;background-color: white;}#sk-container-id-7 div.sk-label label {font-family: monospace;font-weight: bold;display: inline-block;line-height: 1.2em;}#sk-container-id-7 div.sk-label-container {text-align: center;}#sk-container-id-7 div.sk-container {/* jupyter's `normalize.less` sets `[hidden] { display: none; }` but bootstrap.min.css set `[hidden] { display: none !important; }` so we also need the `!important` here to be able to override the default hidden behavior on the sphinx rendered scikit-learn.org. See: https://github.com/scikit-learn/scikit-learn/issues/21755 */display: inline-block !important;position: relative;}#sk-container-id-7 div.sk-text-repr-fallback {display: none;}</style><div id=\"sk-container-id-7\" class=\"sk-top-container\"><div class=\"sk-text-repr-fallback\"><pre>LGBMClassifier(learning_rate=0.01, n_estimators=500)</pre><b>In a Jupyter environment, please rerun this cell to show the HTML representation or trust the notebook. <br />On GitHub, the HTML representation is unable to render, please try loading this page with nbviewer.org.</b></div><div class=\"sk-container\" hidden><div class=\"sk-item\"><div class=\"sk-estimator sk-toggleable\"><input class=\"sk-toggleable__control sk-hidden--visually\" id=\"sk-estimator-id-7\" type=\"checkbox\" checked><label for=\"sk-estimator-id-7\" class=\"sk-toggleable__label sk-toggleable__label-arrow\">LGBMClassifier</label><div class=\"sk-toggleable__content\"><pre>LGBMClassifier(learning_rate=0.01, n_estimators=500)</pre></div></div></div></div></div>"
      ],
      "text/plain": [
       "LGBMClassifier(learning_rate=0.01, n_estimators=500)"
      ]
     },
     "execution_count": 77,
     "metadata": {},
     "output_type": "execute_result"
    }
   ],
   "source": [
    "# Initialize the LightGBM classifier\n",
    "l = LGBMClassifier(n_estimators=500, learning_rate=0.01)\n",
    "l.fit(x_train, y_train)\n"
   ]
  },
  {
   "cell_type": "code",
   "execution_count": null,
   "metadata": {},
   "outputs": [
    {
     "data": {
      "text/plain": [
       "0.981525"
      ]
     },
     "execution_count": 78,
     "metadata": {},
     "output_type": "execute_result"
    }
   ],
   "source": [
    "l.score(x_train,y_train)"
   ]
  },
  {
   "cell_type": "code",
   "execution_count": null,
   "metadata": {},
   "outputs": [
    {
     "data": {
      "text/plain": [
       "0.98"
      ]
     },
     "execution_count": 79,
     "metadata": {},
     "output_type": "execute_result"
    }
   ],
   "source": [
    "l.score(x_test,y_test)"
   ]
  },
  {
   "cell_type": "code",
   "execution_count": null,
   "metadata": {},
   "outputs": [
    {
     "data": {
      "text/plain": [
       "array(['QSO'], dtype=object)"
      ]
     },
     "execution_count": 89,
     "metadata": {},
     "output_type": "execute_result"
    }
   ],
   "source": [
    "l.predict([[\n",
    "228.447728334265,12.745031931428,22.36261,21.7106,21.5963,21.60179,21.12727,2.689002,5488,56013\n",
    "]])\n"
   ]
  },
  {
   "cell_type": "code",
   "execution_count": null,
   "metadata": {},
   "outputs": [
    {
     "data": {
      "text/plain": [
       "array(['GALAXY'], dtype=object)"
      ]
     },
     "execution_count": 90,
     "metadata": {},
     "output_type": "execute_result"
    }
   ],
   "source": [
    "l.predict([[ 40.7957426727124,3.56436811387184,22.79262,22.29579,22.23841,21.55672,21.01273,1.065883,9417,58055\n",
    "]])"
   ]
  },
  {
   "cell_type": "code",
   "execution_count": null,
   "metadata": {},
   "outputs": [
    {
     "data": {
      "text/plain": [
       "array(['STAR'], dtype=object)"
      ]
     },
     "execution_count": 91,
     "metadata": {},
     "output_type": "execute_result"
    }
   ],
   "source": [
    "l.predict([[\n",
    "169.41723647266,7.71984985397181,25.08139,22.03635,21.83119,21.71758,21.24758,0.0002660389,5369,56272\n",
    "]])"
   ]
  },
  {
   "cell_type": "code",
   "execution_count": null,
   "metadata": {},
   "outputs": [],
   "source": [
    "'''#saving The Models\n",
    "import joblib\n",
    "joblib.dump(l,'LGBM_adv_stars_class.pkl')\n",
    "\n",
    "#loading The models anywhere\n",
    "\n",
    "model=joblib.load('LGBM_adv_stars_class.pkl')'''"
   ]
  },
  {
   "cell_type": "markdown",
   "metadata": {},
   "source": [
    "Xgboost syntax"
   ]
  },
  {
   "cell_type": "code",
   "execution_count": null,
   "metadata": {},
   "outputs": [
    {
     "data": {
      "text/plain": [
       "\"from xgboost import *\\n\\nx = XGBClassifier(n_estimators=100, xearning_rate=0.1)\\n\\n# Fit the x to the training data\\nx.fit(x_train, y_train)\\n\\n# Make predictions\\ny_pred = x.predict(x_test)\\n\\n# Evaxuate the x\\naccuracy = accuracy_score(y_test, y_pred)\\nprint(f'Accuracy: {accuracy:.4f}')\\n\""
      ]
     },
     "execution_count": 49,
     "metadata": {},
     "output_type": "execute_result"
    }
   ],
   "source": [
    "'''from xgboost import *\n",
    "\n",
    "x = XGBClassifier(n_estimators=100, xearning_rate=0.1)\n",
    "\n",
    "# Fit the x to the training data\n",
    "x.fit(x_train, y_train)\n",
    "\n",
    "# Make predictions\n",
    "y_pred = x.predict(x_test)\n",
    "\n",
    "# Evaxuate the x\n",
    "accuracy = accuracy_score(y_test, y_pred)\n",
    "print(f'Accuracy: {accuracy:.4f}')\n",
    "'''"
   ]
  },
  {
   "cell_type": "markdown",
   "metadata": {},
   "source": [
    "Catboost - CatBoostClassifier / CatBoostRegressor"
   ]
  },
  {
   "cell_type": "code",
   "execution_count": null,
   "metadata": {},
   "outputs": [
    {
     "name": "stdout",
     "output_type": "stream",
     "text": [
      "Learning rate set to 0.177726\n",
      "0:\tlearn: 0.8160952\ttotal: 22.8ms\tremaining: 11.4s\n",
      "1:\tlearn: 0.6462485\ttotal: 45ms\tremaining: 11.2s\n",
      "2:\tlearn: 0.5277521\ttotal: 65.3ms\tremaining: 10.8s\n",
      "3:\tlearn: 0.4419925\ttotal: 89.3ms\tremaining: 11.1s\n",
      "4:\tlearn: 0.3762191\ttotal: 113ms\tremaining: 11.2s\n",
      "5:\tlearn: 0.3241797\ttotal: 139ms\tremaining: 11.4s\n",
      "6:\tlearn: 0.2812994\ttotal: 239ms\tremaining: 16.8s\n",
      "7:\tlearn: 0.2487304\ttotal: 265ms\tremaining: 16.3s\n",
      "8:\tlearn: 0.2236258\ttotal: 287ms\tremaining: 15.7s\n",
      "9:\tlearn: 0.2035745\ttotal: 311ms\tremaining: 15.2s\n",
      "10:\tlearn: 0.1856255\ttotal: 340ms\tremaining: 15.1s\n",
      "11:\tlearn: 0.1720191\ttotal: 372ms\tremaining: 15.1s\n",
      "12:\tlearn: 0.1609548\ttotal: 394ms\tremaining: 14.8s\n",
      "13:\tlearn: 0.1448564\ttotal: 414ms\tremaining: 14.4s\n",
      "14:\tlearn: 0.1362885\ttotal: 434ms\tremaining: 14s\n",
      "15:\tlearn: 0.1297095\ttotal: 456ms\tremaining: 13.8s\n",
      "16:\tlearn: 0.1233444\ttotal: 481ms\tremaining: 13.7s\n",
      "17:\tlearn: 0.1188456\ttotal: 513ms\tremaining: 13.7s\n",
      "18:\tlearn: 0.1144786\ttotal: 538ms\tremaining: 13.6s\n",
      "19:\tlearn: 0.1101918\ttotal: 572ms\tremaining: 13.7s\n",
      "20:\tlearn: 0.1075988\ttotal: 594ms\tremaining: 13.6s\n",
      "21:\tlearn: 0.1038754\ttotal: 616ms\tremaining: 13.4s\n",
      "22:\tlearn: 0.1008060\ttotal: 636ms\tremaining: 13.2s\n",
      "23:\tlearn: 0.0986872\ttotal: 658ms\tremaining: 13s\n",
      "24:\tlearn: 0.0967831\ttotal: 680ms\tremaining: 12.9s\n",
      "25:\tlearn: 0.0948135\ttotal: 702ms\tremaining: 12.8s\n",
      "26:\tlearn: 0.0933999\ttotal: 730ms\tremaining: 12.8s\n",
      "27:\tlearn: 0.0915462\ttotal: 750ms\tremaining: 12.6s\n",
      "28:\tlearn: 0.0901969\ttotal: 771ms\tremaining: 12.5s\n",
      "29:\tlearn: 0.0892360\ttotal: 793ms\tremaining: 12.4s\n",
      "30:\tlearn: 0.0886743\ttotal: 811ms\tremaining: 12.3s\n",
      "31:\tlearn: 0.0874206\ttotal: 840ms\tremaining: 12.3s\n",
      "32:\tlearn: 0.0867600\ttotal: 876ms\tremaining: 12.4s\n",
      "33:\tlearn: 0.0857548\ttotal: 908ms\tremaining: 12.4s\n",
      "34:\tlearn: 0.0853911\ttotal: 928ms\tremaining: 12.3s\n",
      "35:\tlearn: 0.0845427\ttotal: 949ms\tremaining: 12.2s\n",
      "36:\tlearn: 0.0841384\ttotal: 971ms\tremaining: 12.2s\n",
      "37:\tlearn: 0.0834098\ttotal: 997ms\tremaining: 12.1s\n",
      "38:\tlearn: 0.0827474\ttotal: 1.02s\tremaining: 12s\n",
      "39:\tlearn: 0.0823597\ttotal: 1.04s\tremaining: 12s\n",
      "40:\tlearn: 0.0816463\ttotal: 1.06s\tremaining: 11.9s\n",
      "41:\tlearn: 0.0812947\ttotal: 1.09s\tremaining: 11.9s\n",
      "42:\tlearn: 0.0811067\ttotal: 1.11s\tremaining: 11.8s\n",
      "43:\tlearn: 0.0806181\ttotal: 1.13s\tremaining: 11.7s\n",
      "44:\tlearn: 0.0802946\ttotal: 1.15s\tremaining: 11.7s\n",
      "45:\tlearn: 0.0800331\ttotal: 1.17s\tremaining: 11.6s\n",
      "46:\tlearn: 0.0797698\ttotal: 1.19s\tremaining: 11.5s\n",
      "47:\tlearn: 0.0794204\ttotal: 1.21s\tremaining: 11.4s\n",
      "48:\tlearn: 0.0791703\ttotal: 1.23s\tremaining: 11.3s\n",
      "49:\tlearn: 0.0788212\ttotal: 1.25s\tremaining: 11.2s\n",
      "50:\tlearn: 0.0786295\ttotal: 1.27s\tremaining: 11.1s\n",
      "51:\tlearn: 0.0784474\ttotal: 1.29s\tremaining: 11.1s\n",
      "52:\tlearn: 0.0781628\ttotal: 1.32s\tremaining: 11.1s\n",
      "53:\tlearn: 0.0779673\ttotal: 1.34s\tremaining: 11.1s\n",
      "54:\tlearn: 0.0778968\ttotal: 1.38s\tremaining: 11.1s\n",
      "55:\tlearn: 0.0777845\ttotal: 1.4s\tremaining: 11.1s\n",
      "56:\tlearn: 0.0774387\ttotal: 1.42s\tremaining: 11s\n",
      "57:\tlearn: 0.0771792\ttotal: 1.44s\tremaining: 11s\n",
      "58:\tlearn: 0.0769906\ttotal: 1.51s\tremaining: 11.3s\n",
      "59:\tlearn: 0.0767925\ttotal: 1.54s\tremaining: 11.3s\n",
      "60:\tlearn: 0.0766883\ttotal: 1.56s\tremaining: 11.2s\n",
      "61:\tlearn: 0.0763896\ttotal: 1.58s\tremaining: 11.2s\n",
      "62:\tlearn: 0.0758696\ttotal: 1.6s\tremaining: 11.1s\n",
      "63:\tlearn: 0.0757694\ttotal: 1.62s\tremaining: 11s\n",
      "64:\tlearn: 0.0754888\ttotal: 1.64s\tremaining: 11s\n",
      "65:\tlearn: 0.0753414\ttotal: 1.66s\tremaining: 10.9s\n",
      "66:\tlearn: 0.0751494\ttotal: 1.68s\tremaining: 10.9s\n",
      "67:\tlearn: 0.0750824\ttotal: 1.7s\tremaining: 10.8s\n",
      "68:\tlearn: 0.0749834\ttotal: 1.72s\tremaining: 10.7s\n",
      "69:\tlearn: 0.0746704\ttotal: 1.74s\tremaining: 10.7s\n",
      "70:\tlearn: 0.0745902\ttotal: 1.75s\tremaining: 10.6s\n",
      "71:\tlearn: 0.0745392\ttotal: 1.77s\tremaining: 10.5s\n",
      "72:\tlearn: 0.0744075\ttotal: 1.79s\tremaining: 10.5s\n",
      "73:\tlearn: 0.0743350\ttotal: 1.8s\tremaining: 10.4s\n",
      "74:\tlearn: 0.0742776\ttotal: 1.82s\tremaining: 10.3s\n",
      "75:\tlearn: 0.0742165\ttotal: 1.84s\tremaining: 10.2s\n",
      "76:\tlearn: 0.0740887\ttotal: 1.85s\tremaining: 10.2s\n",
      "77:\tlearn: 0.0739389\ttotal: 1.87s\tremaining: 10.1s\n",
      "78:\tlearn: 0.0738276\ttotal: 1.91s\tremaining: 10.2s\n",
      "79:\tlearn: 0.0736567\ttotal: 1.93s\tremaining: 10.1s\n",
      "80:\tlearn: 0.0735913\ttotal: 1.95s\tremaining: 10.1s\n",
      "81:\tlearn: 0.0735096\ttotal: 1.97s\tremaining: 10.1s\n",
      "82:\tlearn: 0.0734516\ttotal: 1.99s\tremaining: 10s\n",
      "83:\tlearn: 0.0733861\ttotal: 2.01s\tremaining: 9.97s\n",
      "84:\tlearn: 0.0732038\ttotal: 2.03s\tremaining: 9.91s\n",
      "85:\tlearn: 0.0731109\ttotal: 2.05s\tremaining: 9.87s\n",
      "86:\tlearn: 0.0729512\ttotal: 2.07s\tremaining: 9.82s\n",
      "87:\tlearn: 0.0728849\ttotal: 2.09s\tremaining: 9.79s\n",
      "88:\tlearn: 0.0728073\ttotal: 2.11s\tremaining: 9.74s\n",
      "89:\tlearn: 0.0727103\ttotal: 2.13s\tremaining: 9.7s\n",
      "90:\tlearn: 0.0726515\ttotal: 2.15s\tremaining: 9.65s\n",
      "91:\tlearn: 0.0725030\ttotal: 2.17s\tremaining: 9.63s\n",
      "92:\tlearn: 0.0724038\ttotal: 2.19s\tremaining: 9.59s\n",
      "93:\tlearn: 0.0723791\ttotal: 2.21s\tremaining: 9.52s\n",
      "94:\tlearn: 0.0722482\ttotal: 2.22s\tremaining: 9.47s\n",
      "95:\tlearn: 0.0721352\ttotal: 2.24s\tremaining: 9.43s\n",
      "96:\tlearn: 0.0721083\ttotal: 2.26s\tremaining: 9.38s\n",
      "97:\tlearn: 0.0720272\ttotal: 2.27s\tremaining: 9.32s\n",
      "98:\tlearn: 0.0718813\ttotal: 2.29s\tremaining: 9.27s\n",
      "99:\tlearn: 0.0718057\ttotal: 2.31s\tremaining: 9.22s\n",
      "100:\tlearn: 0.0716527\ttotal: 2.32s\tremaining: 9.18s\n",
      "101:\tlearn: 0.0715463\ttotal: 2.34s\tremaining: 9.14s\n",
      "102:\tlearn: 0.0714687\ttotal: 2.36s\tremaining: 9.1s\n",
      "103:\tlearn: 0.0713796\ttotal: 2.38s\tremaining: 9.06s\n",
      "104:\tlearn: 0.0713195\ttotal: 2.4s\tremaining: 9.01s\n",
      "105:\tlearn: 0.0712631\ttotal: 2.41s\tremaining: 8.96s\n",
      "106:\tlearn: 0.0711885\ttotal: 2.43s\tremaining: 8.92s\n",
      "107:\tlearn: 0.0711143\ttotal: 2.45s\tremaining: 8.88s\n",
      "108:\tlearn: 0.0710457\ttotal: 2.46s\tremaining: 8.84s\n",
      "109:\tlearn: 0.0708524\ttotal: 2.48s\tremaining: 8.8s\n",
      "110:\tlearn: 0.0706914\ttotal: 2.5s\tremaining: 8.76s\n",
      "111:\tlearn: 0.0706494\ttotal: 2.52s\tremaining: 8.72s\n",
      "112:\tlearn: 0.0705713\ttotal: 2.53s\tremaining: 8.68s\n",
      "113:\tlearn: 0.0704432\ttotal: 2.55s\tremaining: 8.64s\n",
      "114:\tlearn: 0.0703748\ttotal: 2.57s\tremaining: 8.61s\n",
      "115:\tlearn: 0.0703076\ttotal: 2.59s\tremaining: 8.56s\n",
      "116:\tlearn: 0.0701433\ttotal: 2.6s\tremaining: 8.53s\n",
      "117:\tlearn: 0.0700520\ttotal: 2.62s\tremaining: 8.49s\n",
      "118:\tlearn: 0.0699898\ttotal: 2.64s\tremaining: 8.45s\n",
      "119:\tlearn: 0.0699485\ttotal: 2.65s\tremaining: 8.41s\n",
      "120:\tlearn: 0.0698433\ttotal: 2.67s\tremaining: 8.37s\n",
      "121:\tlearn: 0.0698008\ttotal: 2.69s\tremaining: 8.33s\n",
      "122:\tlearn: 0.0696529\ttotal: 2.71s\tremaining: 8.3s\n",
      "123:\tlearn: 0.0694324\ttotal: 2.73s\tremaining: 8.27s\n",
      "124:\tlearn: 0.0693364\ttotal: 2.75s\tremaining: 8.24s\n",
      "125:\tlearn: 0.0692112\ttotal: 2.77s\tremaining: 8.21s\n",
      "126:\tlearn: 0.0691418\ttotal: 2.79s\tremaining: 8.19s\n",
      "127:\tlearn: 0.0690870\ttotal: 2.81s\tremaining: 8.17s\n",
      "128:\tlearn: 0.0689947\ttotal: 2.83s\tremaining: 8.15s\n",
      "129:\tlearn: 0.0689662\ttotal: 2.85s\tremaining: 8.12s\n",
      "130:\tlearn: 0.0688817\ttotal: 2.88s\tremaining: 8.11s\n",
      "131:\tlearn: 0.0688491\ttotal: 2.9s\tremaining: 8.09s\n",
      "132:\tlearn: 0.0687375\ttotal: 2.92s\tremaining: 8.06s\n",
      "133:\tlearn: 0.0686796\ttotal: 2.94s\tremaining: 8.03s\n",
      "134:\tlearn: 0.0686272\ttotal: 2.96s\tremaining: 7.99s\n",
      "135:\tlearn: 0.0685139\ttotal: 2.97s\tremaining: 7.96s\n",
      "136:\tlearn: 0.0684612\ttotal: 2.99s\tremaining: 7.92s\n",
      "137:\tlearn: 0.0684157\ttotal: 3.01s\tremaining: 7.89s\n",
      "138:\tlearn: 0.0682889\ttotal: 3.03s\tremaining: 7.86s\n",
      "139:\tlearn: 0.0682344\ttotal: 3.04s\tremaining: 7.83s\n",
      "140:\tlearn: 0.0681602\ttotal: 3.06s\tremaining: 7.79s\n",
      "141:\tlearn: 0.0681023\ttotal: 3.08s\tremaining: 7.77s\n",
      "142:\tlearn: 0.0680563\ttotal: 3.1s\tremaining: 7.74s\n",
      "143:\tlearn: 0.0679065\ttotal: 3.12s\tremaining: 7.71s\n",
      "144:\tlearn: 0.0678455\ttotal: 3.14s\tremaining: 7.69s\n",
      "145:\tlearn: 0.0677856\ttotal: 3.16s\tremaining: 7.67s\n",
      "146:\tlearn: 0.0677441\ttotal: 3.18s\tremaining: 7.64s\n",
      "147:\tlearn: 0.0676504\ttotal: 3.2s\tremaining: 7.62s\n",
      "148:\tlearn: 0.0675558\ttotal: 3.23s\tremaining: 7.6s\n",
      "149:\tlearn: 0.0674714\ttotal: 3.25s\tremaining: 7.58s\n",
      "150:\tlearn: 0.0674353\ttotal: 3.27s\tremaining: 7.55s\n",
      "151:\tlearn: 0.0673418\ttotal: 3.28s\tremaining: 7.52s\n",
      "152:\tlearn: 0.0672539\ttotal: 3.3s\tremaining: 7.49s\n",
      "153:\tlearn: 0.0671953\ttotal: 3.32s\tremaining: 7.46s\n",
      "154:\tlearn: 0.0671517\ttotal: 3.33s\tremaining: 7.42s\n",
      "155:\tlearn: 0.0670617\ttotal: 3.35s\tremaining: 7.39s\n",
      "156:\tlearn: 0.0670058\ttotal: 3.37s\tremaining: 7.36s\n",
      "157:\tlearn: 0.0669167\ttotal: 3.39s\tremaining: 7.33s\n",
      "158:\tlearn: 0.0668717\ttotal: 3.4s\tremaining: 7.3s\n",
      "159:\tlearn: 0.0668280\ttotal: 3.42s\tremaining: 7.27s\n",
      "160:\tlearn: 0.0667457\ttotal: 3.44s\tremaining: 7.24s\n",
      "161:\tlearn: 0.0665410\ttotal: 3.46s\tremaining: 7.21s\n",
      "162:\tlearn: 0.0664622\ttotal: 3.48s\tremaining: 7.19s\n",
      "163:\tlearn: 0.0663772\ttotal: 3.49s\tremaining: 7.16s\n",
      "164:\tlearn: 0.0663503\ttotal: 3.51s\tremaining: 7.13s\n",
      "165:\tlearn: 0.0663031\ttotal: 3.53s\tremaining: 7.1s\n",
      "166:\tlearn: 0.0662543\ttotal: 3.55s\tremaining: 7.07s\n",
      "167:\tlearn: 0.0662184\ttotal: 3.56s\tremaining: 7.04s\n",
      "168:\tlearn: 0.0661593\ttotal: 3.58s\tremaining: 7.02s\n",
      "169:\tlearn: 0.0660820\ttotal: 3.6s\tremaining: 6.99s\n",
      "170:\tlearn: 0.0660502\ttotal: 3.62s\tremaining: 6.96s\n",
      "171:\tlearn: 0.0659885\ttotal: 3.63s\tremaining: 6.93s\n",
      "172:\tlearn: 0.0659112\ttotal: 3.66s\tremaining: 6.91s\n",
      "173:\tlearn: 0.0656341\ttotal: 3.68s\tremaining: 6.89s\n",
      "174:\tlearn: 0.0656119\ttotal: 3.69s\tremaining: 6.86s\n",
      "175:\tlearn: 0.0655583\ttotal: 3.71s\tremaining: 6.83s\n",
      "176:\tlearn: 0.0655259\ttotal: 3.73s\tremaining: 6.8s\n",
      "177:\tlearn: 0.0654733\ttotal: 3.75s\tremaining: 6.78s\n",
      "178:\tlearn: 0.0653955\ttotal: 3.76s\tremaining: 6.75s\n",
      "179:\tlearn: 0.0653645\ttotal: 3.78s\tremaining: 6.72s\n",
      "180:\tlearn: 0.0652984\ttotal: 3.8s\tremaining: 6.69s\n",
      "181:\tlearn: 0.0652417\ttotal: 3.81s\tremaining: 6.66s\n",
      "182:\tlearn: 0.0652083\ttotal: 3.83s\tremaining: 6.63s\n",
      "183:\tlearn: 0.0651750\ttotal: 3.85s\tremaining: 6.61s\n",
      "184:\tlearn: 0.0651223\ttotal: 3.86s\tremaining: 6.58s\n",
      "185:\tlearn: 0.0650158\ttotal: 3.88s\tremaining: 6.55s\n",
      "186:\tlearn: 0.0649592\ttotal: 3.9s\tremaining: 6.53s\n",
      "187:\tlearn: 0.0649261\ttotal: 3.92s\tremaining: 6.5s\n",
      "188:\tlearn: 0.0648062\ttotal: 3.93s\tremaining: 6.47s\n",
      "189:\tlearn: 0.0647660\ttotal: 3.95s\tremaining: 6.44s\n",
      "190:\tlearn: 0.0647040\ttotal: 3.96s\tremaining: 6.42s\n",
      "191:\tlearn: 0.0646819\ttotal: 3.98s\tremaining: 6.39s\n",
      "192:\tlearn: 0.0646022\ttotal: 4s\tremaining: 6.36s\n",
      "193:\tlearn: 0.0645023\ttotal: 4.02s\tremaining: 6.34s\n",
      "194:\tlearn: 0.0644499\ttotal: 4.04s\tremaining: 6.31s\n",
      "195:\tlearn: 0.0644132\ttotal: 4.05s\tremaining: 6.29s\n",
      "196:\tlearn: 0.0643725\ttotal: 4.07s\tremaining: 6.26s\n",
      "197:\tlearn: 0.0642732\ttotal: 4.09s\tremaining: 6.24s\n",
      "198:\tlearn: 0.0642119\ttotal: 4.11s\tremaining: 6.22s\n",
      "199:\tlearn: 0.0641554\ttotal: 4.13s\tremaining: 6.2s\n",
      "200:\tlearn: 0.0641296\ttotal: 4.15s\tremaining: 6.17s\n",
      "201:\tlearn: 0.0641029\ttotal: 4.17s\tremaining: 6.15s\n",
      "202:\tlearn: 0.0640411\ttotal: 4.18s\tremaining: 6.12s\n",
      "203:\tlearn: 0.0639951\ttotal: 4.2s\tremaining: 6.09s\n",
      "204:\tlearn: 0.0639196\ttotal: 4.22s\tremaining: 6.07s\n",
      "205:\tlearn: 0.0638741\ttotal: 4.23s\tremaining: 6.04s\n",
      "206:\tlearn: 0.0637857\ttotal: 4.25s\tremaining: 6.02s\n",
      "207:\tlearn: 0.0637432\ttotal: 4.27s\tremaining: 6s\n",
      "208:\tlearn: 0.0636027\ttotal: 4.3s\tremaining: 5.98s\n",
      "209:\tlearn: 0.0635326\ttotal: 4.32s\tremaining: 5.96s\n",
      "210:\tlearn: 0.0634440\ttotal: 4.33s\tremaining: 5.94s\n",
      "211:\tlearn: 0.0634091\ttotal: 4.35s\tremaining: 5.91s\n",
      "212:\tlearn: 0.0633755\ttotal: 4.37s\tremaining: 5.89s\n",
      "213:\tlearn: 0.0633409\ttotal: 4.39s\tremaining: 5.86s\n",
      "214:\tlearn: 0.0632821\ttotal: 4.41s\tremaining: 5.84s\n",
      "215:\tlearn: 0.0632509\ttotal: 4.42s\tremaining: 5.81s\n",
      "216:\tlearn: 0.0631948\ttotal: 4.44s\tremaining: 5.79s\n",
      "217:\tlearn: 0.0631618\ttotal: 4.46s\tremaining: 5.77s\n",
      "218:\tlearn: 0.0631258\ttotal: 4.48s\tremaining: 5.74s\n",
      "219:\tlearn: 0.0630457\ttotal: 4.5s\tremaining: 5.72s\n",
      "220:\tlearn: 0.0630007\ttotal: 4.52s\tremaining: 5.7s\n",
      "221:\tlearn: 0.0629301\ttotal: 4.54s\tremaining: 5.68s\n",
      "222:\tlearn: 0.0628688\ttotal: 4.56s\tremaining: 5.66s\n",
      "223:\tlearn: 0.0628411\ttotal: 4.57s\tremaining: 5.63s\n",
      "224:\tlearn: 0.0628184\ttotal: 4.59s\tremaining: 5.61s\n",
      "225:\tlearn: 0.0627875\ttotal: 4.61s\tremaining: 5.59s\n",
      "226:\tlearn: 0.0627233\ttotal: 4.63s\tremaining: 5.56s\n",
      "227:\tlearn: 0.0626857\ttotal: 4.64s\tremaining: 5.54s\n",
      "228:\tlearn: 0.0626495\ttotal: 4.66s\tremaining: 5.51s\n",
      "229:\tlearn: 0.0626117\ttotal: 4.68s\tremaining: 5.49s\n",
      "230:\tlearn: 0.0625751\ttotal: 4.7s\tremaining: 5.47s\n",
      "231:\tlearn: 0.0625289\ttotal: 4.72s\tremaining: 5.45s\n",
      "232:\tlearn: 0.0624628\ttotal: 4.73s\tremaining: 5.42s\n",
      "233:\tlearn: 0.0623972\ttotal: 4.75s\tremaining: 5.4s\n",
      "234:\tlearn: 0.0623355\ttotal: 4.77s\tremaining: 5.38s\n",
      "235:\tlearn: 0.0622972\ttotal: 4.79s\tremaining: 5.35s\n",
      "236:\tlearn: 0.0622767\ttotal: 4.8s\tremaining: 5.33s\n",
      "237:\tlearn: 0.0622293\ttotal: 4.82s\tremaining: 5.31s\n",
      "238:\tlearn: 0.0622061\ttotal: 4.84s\tremaining: 5.29s\n",
      "239:\tlearn: 0.0621304\ttotal: 4.86s\tremaining: 5.26s\n",
      "240:\tlearn: 0.0620719\ttotal: 4.88s\tremaining: 5.24s\n",
      "241:\tlearn: 0.0619115\ttotal: 4.9s\tremaining: 5.22s\n",
      "242:\tlearn: 0.0618547\ttotal: 4.92s\tremaining: 5.2s\n",
      "243:\tlearn: 0.0618054\ttotal: 4.93s\tremaining: 5.18s\n",
      "244:\tlearn: 0.0617571\ttotal: 4.95s\tremaining: 5.16s\n",
      "245:\tlearn: 0.0616480\ttotal: 4.97s\tremaining: 5.13s\n",
      "246:\tlearn: 0.0616165\ttotal: 4.99s\tremaining: 5.11s\n",
      "247:\tlearn: 0.0615756\ttotal: 5s\tremaining: 5.08s\n",
      "248:\tlearn: 0.0615545\ttotal: 5.02s\tremaining: 5.06s\n",
      "249:\tlearn: 0.0614994\ttotal: 5.04s\tremaining: 5.04s\n",
      "250:\tlearn: 0.0614466\ttotal: 5.06s\tremaining: 5.02s\n",
      "251:\tlearn: 0.0614294\ttotal: 5.07s\tremaining: 4.99s\n",
      "252:\tlearn: 0.0614104\ttotal: 5.09s\tremaining: 4.97s\n",
      "253:\tlearn: 0.0613734\ttotal: 5.12s\tremaining: 4.95s\n",
      "254:\tlearn: 0.0613349\ttotal: 5.13s\tremaining: 4.93s\n",
      "255:\tlearn: 0.0612788\ttotal: 5.16s\tremaining: 4.92s\n",
      "256:\tlearn: 0.0612261\ttotal: 5.18s\tremaining: 4.9s\n",
      "257:\tlearn: 0.0612104\ttotal: 5.2s\tremaining: 4.87s\n",
      "258:\tlearn: 0.0611867\ttotal: 5.22s\tremaining: 4.86s\n",
      "259:\tlearn: 0.0611587\ttotal: 5.24s\tremaining: 4.83s\n",
      "260:\tlearn: 0.0611419\ttotal: 5.26s\tremaining: 4.82s\n",
      "261:\tlearn: 0.0610921\ttotal: 5.29s\tremaining: 4.8s\n",
      "262:\tlearn: 0.0610534\ttotal: 5.31s\tremaining: 4.79s\n",
      "263:\tlearn: 0.0610177\ttotal: 5.33s\tremaining: 4.76s\n",
      "264:\tlearn: 0.0609935\ttotal: 5.34s\tremaining: 4.74s\n",
      "265:\tlearn: 0.0609354\ttotal: 5.36s\tremaining: 4.72s\n",
      "266:\tlearn: 0.0608588\ttotal: 5.38s\tremaining: 4.7s\n",
      "267:\tlearn: 0.0608401\ttotal: 5.4s\tremaining: 4.67s\n",
      "268:\tlearn: 0.0608059\ttotal: 5.42s\tremaining: 4.65s\n",
      "269:\tlearn: 0.0607689\ttotal: 5.43s\tremaining: 4.63s\n",
      "270:\tlearn: 0.0606924\ttotal: 5.45s\tremaining: 4.61s\n",
      "271:\tlearn: 0.0606632\ttotal: 5.47s\tremaining: 4.59s\n",
      "272:\tlearn: 0.0606422\ttotal: 5.49s\tremaining: 4.57s\n",
      "273:\tlearn: 0.0606023\ttotal: 5.51s\tremaining: 4.55s\n",
      "274:\tlearn: 0.0605361\ttotal: 5.53s\tremaining: 4.53s\n",
      "275:\tlearn: 0.0605032\ttotal: 5.55s\tremaining: 4.5s\n",
      "276:\tlearn: 0.0604586\ttotal: 5.57s\tremaining: 4.48s\n",
      "277:\tlearn: 0.0604284\ttotal: 5.63s\tremaining: 4.49s\n",
      "278:\tlearn: 0.0603875\ttotal: 5.66s\tremaining: 4.48s\n",
      "279:\tlearn: 0.0603452\ttotal: 5.68s\tremaining: 4.46s\n",
      "280:\tlearn: 0.0603150\ttotal: 5.7s\tremaining: 4.44s\n",
      "281:\tlearn: 0.0602616\ttotal: 5.71s\tremaining: 4.42s\n",
      "282:\tlearn: 0.0602342\ttotal: 5.73s\tremaining: 4.39s\n",
      "283:\tlearn: 0.0602098\ttotal: 5.75s\tremaining: 4.37s\n",
      "284:\tlearn: 0.0601760\ttotal: 5.77s\tremaining: 4.35s\n",
      "285:\tlearn: 0.0601480\ttotal: 5.79s\tremaining: 4.33s\n",
      "286:\tlearn: 0.0601116\ttotal: 5.8s\tremaining: 4.31s\n",
      "287:\tlearn: 0.0600810\ttotal: 5.82s\tremaining: 4.29s\n",
      "288:\tlearn: 0.0600386\ttotal: 5.84s\tremaining: 4.26s\n",
      "289:\tlearn: 0.0600132\ttotal: 5.86s\tremaining: 4.24s\n",
      "290:\tlearn: 0.0599879\ttotal: 5.88s\tremaining: 4.22s\n",
      "291:\tlearn: 0.0599519\ttotal: 5.9s\tremaining: 4.2s\n",
      "292:\tlearn: 0.0599099\ttotal: 5.92s\tremaining: 4.18s\n",
      "293:\tlearn: 0.0598863\ttotal: 5.93s\tremaining: 4.16s\n",
      "294:\tlearn: 0.0598457\ttotal: 5.95s\tremaining: 4.13s\n",
      "295:\tlearn: 0.0598093\ttotal: 5.97s\tremaining: 4.11s\n",
      "296:\tlearn: 0.0597907\ttotal: 5.99s\tremaining: 4.09s\n",
      "297:\tlearn: 0.0597517\ttotal: 6s\tremaining: 4.07s\n",
      "298:\tlearn: 0.0596719\ttotal: 6.02s\tremaining: 4.05s\n",
      "299:\tlearn: 0.0595461\ttotal: 6.04s\tremaining: 4.02s\n",
      "300:\tlearn: 0.0594642\ttotal: 6.05s\tremaining: 4s\n",
      "301:\tlearn: 0.0594439\ttotal: 6.07s\tremaining: 3.98s\n",
      "302:\tlearn: 0.0594039\ttotal: 6.09s\tremaining: 3.96s\n",
      "303:\tlearn: 0.0593849\ttotal: 6.11s\tremaining: 3.94s\n",
      "304:\tlearn: 0.0593503\ttotal: 6.13s\tremaining: 3.92s\n",
      "305:\tlearn: 0.0592656\ttotal: 6.16s\tremaining: 3.9s\n",
      "306:\tlearn: 0.0592110\ttotal: 6.18s\tremaining: 3.88s\n",
      "307:\tlearn: 0.0591702\ttotal: 6.2s\tremaining: 3.87s\n",
      "308:\tlearn: 0.0591434\ttotal: 6.22s\tremaining: 3.84s\n",
      "309:\tlearn: 0.0590607\ttotal: 6.24s\tremaining: 3.82s\n",
      "310:\tlearn: 0.0590341\ttotal: 6.25s\tremaining: 3.8s\n",
      "311:\tlearn: 0.0589584\ttotal: 6.27s\tremaining: 3.78s\n",
      "312:\tlearn: 0.0589018\ttotal: 6.29s\tremaining: 3.76s\n",
      "313:\tlearn: 0.0588662\ttotal: 6.31s\tremaining: 3.74s\n",
      "314:\tlearn: 0.0588320\ttotal: 6.33s\tremaining: 3.71s\n",
      "315:\tlearn: 0.0587785\ttotal: 6.34s\tremaining: 3.69s\n",
      "316:\tlearn: 0.0587363\ttotal: 6.36s\tremaining: 3.67s\n",
      "317:\tlearn: 0.0586434\ttotal: 6.38s\tremaining: 3.65s\n",
      "318:\tlearn: 0.0585642\ttotal: 6.4s\tremaining: 3.63s\n",
      "319:\tlearn: 0.0585243\ttotal: 6.42s\tremaining: 3.61s\n",
      "320:\tlearn: 0.0584914\ttotal: 6.44s\tremaining: 3.59s\n",
      "321:\tlearn: 0.0584445\ttotal: 6.46s\tremaining: 3.57s\n",
      "322:\tlearn: 0.0583440\ttotal: 6.48s\tremaining: 3.55s\n",
      "323:\tlearn: 0.0583001\ttotal: 6.5s\tremaining: 3.53s\n",
      "324:\tlearn: 0.0582504\ttotal: 6.52s\tremaining: 3.51s\n",
      "325:\tlearn: 0.0582347\ttotal: 6.54s\tremaining: 3.49s\n",
      "326:\tlearn: 0.0582149\ttotal: 6.56s\tremaining: 3.47s\n",
      "327:\tlearn: 0.0581777\ttotal: 6.58s\tremaining: 3.45s\n",
      "328:\tlearn: 0.0581399\ttotal: 6.59s\tremaining: 3.43s\n",
      "329:\tlearn: 0.0581045\ttotal: 6.61s\tremaining: 3.4s\n",
      "330:\tlearn: 0.0580857\ttotal: 6.63s\tremaining: 3.38s\n",
      "331:\tlearn: 0.0580585\ttotal: 6.64s\tremaining: 3.36s\n",
      "332:\tlearn: 0.0580401\ttotal: 6.66s\tremaining: 3.34s\n",
      "333:\tlearn: 0.0579481\ttotal: 6.68s\tremaining: 3.32s\n",
      "334:\tlearn: 0.0579304\ttotal: 6.7s\tremaining: 3.3s\n",
      "335:\tlearn: 0.0578767\ttotal: 6.72s\tremaining: 3.28s\n",
      "336:\tlearn: 0.0578134\ttotal: 6.74s\tremaining: 3.26s\n",
      "337:\tlearn: 0.0577842\ttotal: 6.75s\tremaining: 3.24s\n",
      "338:\tlearn: 0.0577458\ttotal: 6.77s\tremaining: 3.21s\n",
      "339:\tlearn: 0.0577055\ttotal: 6.79s\tremaining: 3.19s\n",
      "340:\tlearn: 0.0576732\ttotal: 6.8s\tremaining: 3.17s\n",
      "341:\tlearn: 0.0576510\ttotal: 6.83s\tremaining: 3.15s\n",
      "342:\tlearn: 0.0576231\ttotal: 6.84s\tremaining: 3.13s\n",
      "343:\tlearn: 0.0575830\ttotal: 6.87s\tremaining: 3.11s\n",
      "344:\tlearn: 0.0575526\ttotal: 6.89s\tremaining: 3.09s\n",
      "345:\tlearn: 0.0575281\ttotal: 6.91s\tremaining: 3.07s\n",
      "346:\tlearn: 0.0574933\ttotal: 6.93s\tremaining: 3.05s\n",
      "347:\tlearn: 0.0574324\ttotal: 6.95s\tremaining: 3.03s\n",
      "348:\tlearn: 0.0574093\ttotal: 6.96s\tremaining: 3.01s\n",
      "349:\tlearn: 0.0573624\ttotal: 6.98s\tremaining: 2.99s\n",
      "350:\tlearn: 0.0573166\ttotal: 7s\tremaining: 2.97s\n",
      "351:\tlearn: 0.0572796\ttotal: 7.02s\tremaining: 2.95s\n",
      "352:\tlearn: 0.0572630\ttotal: 7.04s\tremaining: 2.93s\n",
      "353:\tlearn: 0.0572348\ttotal: 7.05s\tremaining: 2.91s\n",
      "354:\tlearn: 0.0572135\ttotal: 7.07s\tremaining: 2.89s\n",
      "355:\tlearn: 0.0571625\ttotal: 7.09s\tremaining: 2.87s\n",
      "356:\tlearn: 0.0571274\ttotal: 7.1s\tremaining: 2.85s\n",
      "357:\tlearn: 0.0571068\ttotal: 7.12s\tremaining: 2.83s\n",
      "358:\tlearn: 0.0570749\ttotal: 7.14s\tremaining: 2.81s\n",
      "359:\tlearn: 0.0570326\ttotal: 7.16s\tremaining: 2.79s\n",
      "360:\tlearn: 0.0570065\ttotal: 7.18s\tremaining: 2.77s\n",
      "361:\tlearn: 0.0569822\ttotal: 7.2s\tremaining: 2.75s\n",
      "362:\tlearn: 0.0568476\ttotal: 7.22s\tremaining: 2.73s\n",
      "363:\tlearn: 0.0568305\ttotal: 7.24s\tremaining: 2.7s\n",
      "364:\tlearn: 0.0567592\ttotal: 7.26s\tremaining: 2.68s\n",
      "365:\tlearn: 0.0567306\ttotal: 7.27s\tremaining: 2.66s\n",
      "366:\tlearn: 0.0567038\ttotal: 7.29s\tremaining: 2.64s\n",
      "367:\tlearn: 0.0566714\ttotal: 7.31s\tremaining: 2.62s\n",
      "368:\tlearn: 0.0566467\ttotal: 7.33s\tremaining: 2.6s\n",
      "369:\tlearn: 0.0566084\ttotal: 7.34s\tremaining: 2.58s\n",
      "370:\tlearn: 0.0565946\ttotal: 7.36s\tremaining: 2.56s\n",
      "371:\tlearn: 0.0565592\ttotal: 7.38s\tremaining: 2.54s\n",
      "372:\tlearn: 0.0565210\ttotal: 7.4s\tremaining: 2.52s\n",
      "373:\tlearn: 0.0564772\ttotal: 7.42s\tremaining: 2.5s\n",
      "374:\tlearn: 0.0564548\ttotal: 7.43s\tremaining: 2.48s\n",
      "375:\tlearn: 0.0564094\ttotal: 7.45s\tremaining: 2.46s\n",
      "376:\tlearn: 0.0563703\ttotal: 7.47s\tremaining: 2.44s\n",
      "377:\tlearn: 0.0563496\ttotal: 7.49s\tremaining: 2.42s\n",
      "378:\tlearn: 0.0563056\ttotal: 7.51s\tremaining: 2.4s\n",
      "379:\tlearn: 0.0562449\ttotal: 7.53s\tremaining: 2.38s\n",
      "380:\tlearn: 0.0562075\ttotal: 7.54s\tremaining: 2.35s\n",
      "381:\tlearn: 0.0561743\ttotal: 7.56s\tremaining: 2.33s\n",
      "382:\tlearn: 0.0561413\ttotal: 7.58s\tremaining: 2.31s\n",
      "383:\tlearn: 0.0560833\ttotal: 7.6s\tremaining: 2.29s\n",
      "384:\tlearn: 0.0560546\ttotal: 7.62s\tremaining: 2.27s\n",
      "385:\tlearn: 0.0560351\ttotal: 7.64s\tremaining: 2.25s\n",
      "386:\tlearn: 0.0559881\ttotal: 7.66s\tremaining: 2.24s\n",
      "387:\tlearn: 0.0559551\ttotal: 7.68s\tremaining: 2.21s\n",
      "388:\tlearn: 0.0559365\ttotal: 7.69s\tremaining: 2.19s\n",
      "389:\tlearn: 0.0559149\ttotal: 7.71s\tremaining: 2.17s\n",
      "390:\tlearn: 0.0558700\ttotal: 7.72s\tremaining: 2.15s\n",
      "391:\tlearn: 0.0558312\ttotal: 7.74s\tremaining: 2.13s\n",
      "392:\tlearn: 0.0557939\ttotal: 7.76s\tremaining: 2.11s\n",
      "393:\tlearn: 0.0557742\ttotal: 7.78s\tremaining: 2.09s\n",
      "394:\tlearn: 0.0557548\ttotal: 7.79s\tremaining: 2.07s\n",
      "395:\tlearn: 0.0557222\ttotal: 7.81s\tremaining: 2.05s\n",
      "396:\tlearn: 0.0556897\ttotal: 7.83s\tremaining: 2.03s\n",
      "397:\tlearn: 0.0556655\ttotal: 7.85s\tremaining: 2.01s\n",
      "398:\tlearn: 0.0556460\ttotal: 7.86s\tremaining: 1.99s\n",
      "399:\tlearn: 0.0555717\ttotal: 7.88s\tremaining: 1.97s\n",
      "400:\tlearn: 0.0555530\ttotal: 7.9s\tremaining: 1.95s\n",
      "401:\tlearn: 0.0554984\ttotal: 7.92s\tremaining: 1.93s\n",
      "402:\tlearn: 0.0554641\ttotal: 7.93s\tremaining: 1.91s\n",
      "403:\tlearn: 0.0554082\ttotal: 7.95s\tremaining: 1.89s\n",
      "404:\tlearn: 0.0553220\ttotal: 7.97s\tremaining: 1.87s\n",
      "405:\tlearn: 0.0552999\ttotal: 7.99s\tremaining: 1.85s\n",
      "406:\tlearn: 0.0552768\ttotal: 8s\tremaining: 1.83s\n",
      "407:\tlearn: 0.0552431\ttotal: 8.02s\tremaining: 1.81s\n",
      "408:\tlearn: 0.0551970\ttotal: 8.04s\tremaining: 1.79s\n",
      "409:\tlearn: 0.0551422\ttotal: 8.06s\tremaining: 1.77s\n",
      "410:\tlearn: 0.0551189\ttotal: 8.07s\tremaining: 1.75s\n",
      "411:\tlearn: 0.0550948\ttotal: 8.09s\tremaining: 1.73s\n",
      "412:\tlearn: 0.0550524\ttotal: 8.11s\tremaining: 1.71s\n",
      "413:\tlearn: 0.0550096\ttotal: 8.13s\tremaining: 1.69s\n",
      "414:\tlearn: 0.0549908\ttotal: 8.15s\tremaining: 1.67s\n",
      "415:\tlearn: 0.0549464\ttotal: 8.17s\tremaining: 1.65s\n",
      "416:\tlearn: 0.0549029\ttotal: 8.19s\tremaining: 1.63s\n",
      "417:\tlearn: 0.0548572\ttotal: 8.2s\tremaining: 1.61s\n",
      "418:\tlearn: 0.0548276\ttotal: 8.22s\tremaining: 1.59s\n",
      "419:\tlearn: 0.0547871\ttotal: 8.24s\tremaining: 1.57s\n",
      "420:\tlearn: 0.0547733\ttotal: 8.26s\tremaining: 1.55s\n",
      "421:\tlearn: 0.0547512\ttotal: 8.28s\tremaining: 1.53s\n",
      "422:\tlearn: 0.0547301\ttotal: 8.3s\tremaining: 1.51s\n",
      "423:\tlearn: 0.0546951\ttotal: 8.31s\tremaining: 1.49s\n",
      "424:\tlearn: 0.0546417\ttotal: 8.34s\tremaining: 1.47s\n",
      "425:\tlearn: 0.0546010\ttotal: 8.37s\tremaining: 1.45s\n",
      "426:\tlearn: 0.0545790\ttotal: 8.4s\tremaining: 1.44s\n",
      "427:\tlearn: 0.0545526\ttotal: 8.42s\tremaining: 1.42s\n",
      "428:\tlearn: 0.0545450\ttotal: 8.44s\tremaining: 1.4s\n",
      "429:\tlearn: 0.0545104\ttotal: 8.47s\tremaining: 1.38s\n",
      "430:\tlearn: 0.0544858\ttotal: 8.49s\tremaining: 1.36s\n",
      "431:\tlearn: 0.0544434\ttotal: 8.6s\tremaining: 1.35s\n",
      "432:\tlearn: 0.0543874\ttotal: 8.65s\tremaining: 1.34s\n",
      "433:\tlearn: 0.0543449\ttotal: 8.69s\tremaining: 1.32s\n",
      "434:\tlearn: 0.0542925\ttotal: 8.72s\tremaining: 1.3s\n",
      "435:\tlearn: 0.0542531\ttotal: 8.75s\tremaining: 1.28s\n",
      "436:\tlearn: 0.0542135\ttotal: 8.78s\tremaining: 1.26s\n",
      "437:\tlearn: 0.0541917\ttotal: 8.8s\tremaining: 1.25s\n",
      "438:\tlearn: 0.0541477\ttotal: 8.81s\tremaining: 1.22s\n",
      "439:\tlearn: 0.0541130\ttotal: 8.84s\tremaining: 1.2s\n",
      "440:\tlearn: 0.0540821\ttotal: 8.85s\tremaining: 1.18s\n",
      "441:\tlearn: 0.0540689\ttotal: 8.87s\tremaining: 1.16s\n",
      "442:\tlearn: 0.0540420\ttotal: 8.89s\tremaining: 1.14s\n",
      "443:\tlearn: 0.0540117\ttotal: 8.91s\tremaining: 1.12s\n",
      "444:\tlearn: 0.0539945\ttotal: 8.93s\tremaining: 1.1s\n",
      "445:\tlearn: 0.0539723\ttotal: 8.95s\tremaining: 1.08s\n",
      "446:\tlearn: 0.0539139\ttotal: 8.97s\tremaining: 1.06s\n",
      "447:\tlearn: 0.0539023\ttotal: 8.98s\tremaining: 1.04s\n",
      "448:\tlearn: 0.0538288\ttotal: 9.01s\tremaining: 1.02s\n",
      "449:\tlearn: 0.0537506\ttotal: 9.03s\tremaining: 1s\n",
      "450:\tlearn: 0.0537176\ttotal: 9.04s\tremaining: 982ms\n",
      "451:\tlearn: 0.0536968\ttotal: 9.06s\tremaining: 962ms\n",
      "452:\tlearn: 0.0536386\ttotal: 9.08s\tremaining: 942ms\n",
      "453:\tlearn: 0.0536040\ttotal: 9.1s\tremaining: 922ms\n",
      "454:\tlearn: 0.0535845\ttotal: 9.12s\tremaining: 902ms\n",
      "455:\tlearn: 0.0535665\ttotal: 9.15s\tremaining: 883ms\n",
      "456:\tlearn: 0.0535439\ttotal: 9.18s\tremaining: 864ms\n",
      "457:\tlearn: 0.0535061\ttotal: 9.22s\tremaining: 845ms\n",
      "458:\tlearn: 0.0534346\ttotal: 9.25s\tremaining: 826ms\n",
      "459:\tlearn: 0.0534211\ttotal: 9.27s\tremaining: 806ms\n",
      "460:\tlearn: 0.0533907\ttotal: 9.29s\tremaining: 786ms\n",
      "461:\tlearn: 0.0533588\ttotal: 9.31s\tremaining: 766ms\n",
      "462:\tlearn: 0.0533398\ttotal: 9.34s\tremaining: 746ms\n",
      "463:\tlearn: 0.0533213\ttotal: 9.36s\tremaining: 726ms\n",
      "464:\tlearn: 0.0532859\ttotal: 9.38s\tremaining: 706ms\n",
      "465:\tlearn: 0.0532566\ttotal: 9.4s\tremaining: 686ms\n",
      "466:\tlearn: 0.0532129\ttotal: 9.42s\tremaining: 666ms\n",
      "467:\tlearn: 0.0531894\ttotal: 9.44s\tremaining: 646ms\n",
      "468:\tlearn: 0.0531495\ttotal: 9.46s\tremaining: 626ms\n",
      "469:\tlearn: 0.0531267\ttotal: 9.48s\tremaining: 605ms\n",
      "470:\tlearn: 0.0530825\ttotal: 9.5s\tremaining: 585ms\n",
      "471:\tlearn: 0.0530542\ttotal: 9.52s\tremaining: 565ms\n",
      "472:\tlearn: 0.0530276\ttotal: 9.54s\tremaining: 544ms\n",
      "473:\tlearn: 0.0529797\ttotal: 9.56s\tremaining: 524ms\n",
      "474:\tlearn: 0.0529257\ttotal: 9.58s\tremaining: 504ms\n",
      "475:\tlearn: 0.0528778\ttotal: 9.59s\tremaining: 484ms\n",
      "476:\tlearn: 0.0528618\ttotal: 9.62s\tremaining: 464ms\n",
      "477:\tlearn: 0.0528503\ttotal: 9.63s\tremaining: 443ms\n",
      "478:\tlearn: 0.0528408\ttotal: 9.65s\tremaining: 423ms\n",
      "479:\tlearn: 0.0527738\ttotal: 9.67s\tremaining: 403ms\n",
      "480:\tlearn: 0.0527485\ttotal: 9.69s\tremaining: 383ms\n",
      "481:\tlearn: 0.0527159\ttotal: 9.7s\tremaining: 362ms\n",
      "482:\tlearn: 0.0526922\ttotal: 9.72s\tremaining: 342ms\n",
      "483:\tlearn: 0.0526767\ttotal: 9.74s\tremaining: 322ms\n",
      "484:\tlearn: 0.0526577\ttotal: 9.75s\tremaining: 302ms\n",
      "485:\tlearn: 0.0526242\ttotal: 9.77s\tremaining: 281ms\n",
      "486:\tlearn: 0.0525922\ttotal: 9.79s\tremaining: 261ms\n",
      "487:\tlearn: 0.0525268\ttotal: 9.81s\tremaining: 241ms\n",
      "488:\tlearn: 0.0524922\ttotal: 9.82s\tremaining: 221ms\n",
      "489:\tlearn: 0.0524618\ttotal: 9.84s\tremaining: 201ms\n",
      "490:\tlearn: 0.0524288\ttotal: 9.86s\tremaining: 181ms\n",
      "491:\tlearn: 0.0524174\ttotal: 9.88s\tremaining: 161ms\n",
      "492:\tlearn: 0.0523852\ttotal: 9.89s\tremaining: 141ms\n",
      "493:\tlearn: 0.0523582\ttotal: 9.91s\tremaining: 120ms\n",
      "494:\tlearn: 0.0523355\ttotal: 9.93s\tremaining: 100ms\n",
      "495:\tlearn: 0.0523046\ttotal: 9.95s\tremaining: 80.2ms\n",
      "496:\tlearn: 0.0522781\ttotal: 9.97s\tremaining: 60.2ms\n",
      "497:\tlearn: 0.0522598\ttotal: 9.98s\tremaining: 40.1ms\n",
      "498:\tlearn: 0.0522142\ttotal: 10s\tremaining: 20ms\n",
      "499:\tlearn: 0.0522013\ttotal: 10s\tremaining: 0us\n"
     ]
    },
    {
     "data": {
      "text/plain": [
       "<catboost.core.CatBoostClassifier at 0x21f8c629490>"
      ]
     },
     "execution_count": 80,
     "metadata": {},
     "output_type": "execute_result"
    }
   ],
   "source": [
    "c=CatBoostClassifier(n_estimators=500)\n",
    "c.fit(x_train, y_train)"
   ]
  },
  {
   "cell_type": "code",
   "execution_count": null,
   "metadata": {},
   "outputs": [
    {
     "data": {
      "text/plain": [
       "0.9843125"
      ]
     },
     "execution_count": 81,
     "metadata": {},
     "output_type": "execute_result"
    }
   ],
   "source": [
    "c.score(x_train,y_train)"
   ]
  },
  {
   "cell_type": "code",
   "execution_count": null,
   "metadata": {},
   "outputs": [
    {
     "data": {
      "text/plain": [
       "0.98105"
      ]
     },
     "execution_count": 82,
     "metadata": {},
     "output_type": "execute_result"
    }
   ],
   "source": [
    "c.score(x_test,y_test)"
   ]
  },
  {
   "cell_type": "code",
   "execution_count": null,
   "metadata": {},
   "outputs": [
    {
     "data": {
      "text/plain": [
       "array([['QSO']], dtype=object)"
      ]
     },
     "execution_count": 83,
     "metadata": {},
     "output_type": "execute_result"
    }
   ],
   "source": [
    "c.predict([[\n",
    "228.447728334265,12.745031931428,22.36261,21.7106,21.5963,21.60179,21.12727,2.689002,5488,56013\n",
    "]])\n"
   ]
  },
  {
   "cell_type": "code",
   "execution_count": null,
   "metadata": {},
   "outputs": [
    {
     "data": {
      "text/plain": [
       "array([['GALAXY']], dtype=object)"
      ]
     },
     "execution_count": 84,
     "metadata": {},
     "output_type": "execute_result"
    }
   ],
   "source": [
    "c.predict([[ 40.7957426727124,3.56436811387184,22.79262,22.29579,22.23841,21.55672,21.01273,1.065883,9417,58055\n",
    "]])"
   ]
  },
  {
   "cell_type": "code",
   "execution_count": null,
   "metadata": {},
   "outputs": [
    {
     "data": {
      "text/plain": [
       "array([['STAR']], dtype=object)"
      ]
     },
     "execution_count": 85,
     "metadata": {},
     "output_type": "execute_result"
    }
   ],
   "source": [
    "c.predict([[\n",
    "169.41723647266,7.71984985397181,25.08139,22.03635,21.83119,21.71758,21.24758,0.0002660389,5369,56272\n",
    "]])"
   ]
  },
  {
   "cell_type": "code",
   "execution_count": null,
   "metadata": {},
   "outputs": [],
   "source": [
    "'''#saving The Models\n",
    "import joblib\n",
    "joblib.dump(c,'CatBoost_adv_stars_class.pkl')\n",
    "\n",
    "#loading The models anywhere\n",
    "\n",
    "model=joblib.load('CatBoost_adv_stars_class.pkl')'''"
   ]
  },
  {
   "cell_type": "markdown",
   "metadata": {},
   "source": [
    "ET"
   ]
  },
  {
   "cell_type": "code",
   "execution_count": null,
   "metadata": {},
   "outputs": [
    {
     "name": "stderr",
     "output_type": "stream",
     "text": [
      "c:\\Users\\debna\\anaconda3\\Lib\\site-packages\\sklearn\\base.py:1473: DataConversionWarning: A column-vector y was passed when a 1d array was expected. Please change the shape of y to (n_samples,), for example using ravel().\n",
      "  return fit_method(estimator, *args, **kwargs)\n"
     ]
    },
    {
     "data": {
      "text/html": [
       "<style>#sk-container-id-1 {\n",
       "  /* Definition of color scheme common for light and dark mode */\n",
       "  --sklearn-color-text: black;\n",
       "  --sklearn-color-line: gray;\n",
       "  /* Definition of color scheme for unfitted estimators */\n",
       "  --sklearn-color-unfitted-level-0: #fff5e6;\n",
       "  --sklearn-color-unfitted-level-1: #f6e4d2;\n",
       "  --sklearn-color-unfitted-level-2: #ffe0b3;\n",
       "  --sklearn-color-unfitted-level-3: chocolate;\n",
       "  /* Definition of color scheme for fitted estimators */\n",
       "  --sklearn-color-fitted-level-0: #f0f8ff;\n",
       "  --sklearn-color-fitted-level-1: #d4ebff;\n",
       "  --sklearn-color-fitted-level-2: #b3dbfd;\n",
       "  --sklearn-color-fitted-level-3: cornflowerblue;\n",
       "\n",
       "  /* Specific color for light theme */\n",
       "  --sklearn-color-text-on-default-background: var(--sg-text-color, var(--theme-code-foreground, var(--jp-content-font-color1, black)));\n",
       "  --sklearn-color-background: var(--sg-background-color, var(--theme-background, var(--jp-layout-color0, white)));\n",
       "  --sklearn-color-border-box: var(--sg-text-color, var(--theme-code-foreground, var(--jp-content-font-color1, black)));\n",
       "  --sklearn-color-icon: #696969;\n",
       "\n",
       "  @media (prefers-color-scheme: dark) {\n",
       "    /* Redefinition of color scheme for dark theme */\n",
       "    --sklearn-color-text-on-default-background: var(--sg-text-color, var(--theme-code-foreground, var(--jp-content-font-color1, white)));\n",
       "    --sklearn-color-background: var(--sg-background-color, var(--theme-background, var(--jp-layout-color0, #111)));\n",
       "    --sklearn-color-border-box: var(--sg-text-color, var(--theme-code-foreground, var(--jp-content-font-color1, white)));\n",
       "    --sklearn-color-icon: #878787;\n",
       "  }\n",
       "}\n",
       "\n",
       "#sk-container-id-1 {\n",
       "  color: var(--sklearn-color-text);\n",
       "}\n",
       "\n",
       "#sk-container-id-1 pre {\n",
       "  padding: 0;\n",
       "}\n",
       "\n",
       "#sk-container-id-1 input.sk-hidden--visually {\n",
       "  border: 0;\n",
       "  clip: rect(1px 1px 1px 1px);\n",
       "  clip: rect(1px, 1px, 1px, 1px);\n",
       "  height: 1px;\n",
       "  margin: -1px;\n",
       "  overflow: hidden;\n",
       "  padding: 0;\n",
       "  position: absolute;\n",
       "  width: 1px;\n",
       "}\n",
       "\n",
       "#sk-container-id-1 div.sk-dashed-wrapped {\n",
       "  border: 1px dashed var(--sklearn-color-line);\n",
       "  margin: 0 0.4em 0.5em 0.4em;\n",
       "  box-sizing: border-box;\n",
       "  padding-bottom: 0.4em;\n",
       "  background-color: var(--sklearn-color-background);\n",
       "}\n",
       "\n",
       "#sk-container-id-1 div.sk-container {\n",
       "  /* jupyter's `normalize.less` sets `[hidden] { display: none; }`\n",
       "     but bootstrap.min.css set `[hidden] { display: none !important; }`\n",
       "     so we also need the `!important` here to be able to override the\n",
       "     default hidden behavior on the sphinx rendered scikit-learn.org.\n",
       "     See: https://github.com/scikit-learn/scikit-learn/issues/21755 */\n",
       "  display: inline-block !important;\n",
       "  position: relative;\n",
       "}\n",
       "\n",
       "#sk-container-id-1 div.sk-text-repr-fallback {\n",
       "  display: none;\n",
       "}\n",
       "\n",
       "div.sk-parallel-item,\n",
       "div.sk-serial,\n",
       "div.sk-item {\n",
       "  /* draw centered vertical line to link estimators */\n",
       "  background-image: linear-gradient(var(--sklearn-color-text-on-default-background), var(--sklearn-color-text-on-default-background));\n",
       "  background-size: 2px 100%;\n",
       "  background-repeat: no-repeat;\n",
       "  background-position: center center;\n",
       "}\n",
       "\n",
       "/* Parallel-specific style estimator block */\n",
       "\n",
       "#sk-container-id-1 div.sk-parallel-item::after {\n",
       "  content: \"\";\n",
       "  width: 100%;\n",
       "  border-bottom: 2px solid var(--sklearn-color-text-on-default-background);\n",
       "  flex-grow: 1;\n",
       "}\n",
       "\n",
       "#sk-container-id-1 div.sk-parallel {\n",
       "  display: flex;\n",
       "  align-items: stretch;\n",
       "  justify-content: center;\n",
       "  background-color: var(--sklearn-color-background);\n",
       "  position: relative;\n",
       "}\n",
       "\n",
       "#sk-container-id-1 div.sk-parallel-item {\n",
       "  display: flex;\n",
       "  flex-direction: column;\n",
       "}\n",
       "\n",
       "#sk-container-id-1 div.sk-parallel-item:first-child::after {\n",
       "  align-self: flex-end;\n",
       "  width: 50%;\n",
       "}\n",
       "\n",
       "#sk-container-id-1 div.sk-parallel-item:last-child::after {\n",
       "  align-self: flex-start;\n",
       "  width: 50%;\n",
       "}\n",
       "\n",
       "#sk-container-id-1 div.sk-parallel-item:only-child::after {\n",
       "  width: 0;\n",
       "}\n",
       "\n",
       "/* Serial-specific style estimator block */\n",
       "\n",
       "#sk-container-id-1 div.sk-serial {\n",
       "  display: flex;\n",
       "  flex-direction: column;\n",
       "  align-items: center;\n",
       "  background-color: var(--sklearn-color-background);\n",
       "  padding-right: 1em;\n",
       "  padding-left: 1em;\n",
       "}\n",
       "\n",
       "\n",
       "/* Toggleable style: style used for estimator/Pipeline/ColumnTransformer box that is\n",
       "clickable and can be expanded/collapsed.\n",
       "- Pipeline and ColumnTransformer use this feature and define the default style\n",
       "- Estimators will overwrite some part of the style using the `sk-estimator` class\n",
       "*/\n",
       "\n",
       "/* Pipeline and ColumnTransformer style (default) */\n",
       "\n",
       "#sk-container-id-1 div.sk-toggleable {\n",
       "  /* Default theme specific background. It is overwritten whether we have a\n",
       "  specific estimator or a Pipeline/ColumnTransformer */\n",
       "  background-color: var(--sklearn-color-background);\n",
       "}\n",
       "\n",
       "/* Toggleable label */\n",
       "#sk-container-id-1 label.sk-toggleable__label {\n",
       "  cursor: pointer;\n",
       "  display: block;\n",
       "  width: 100%;\n",
       "  margin-bottom: 0;\n",
       "  padding: 0.5em;\n",
       "  box-sizing: border-box;\n",
       "  text-align: center;\n",
       "}\n",
       "\n",
       "#sk-container-id-1 label.sk-toggleable__label-arrow:before {\n",
       "  /* Arrow on the left of the label */\n",
       "  content: \"▸\";\n",
       "  float: left;\n",
       "  margin-right: 0.25em;\n",
       "  color: var(--sklearn-color-icon);\n",
       "}\n",
       "\n",
       "#sk-container-id-1 label.sk-toggleable__label-arrow:hover:before {\n",
       "  color: var(--sklearn-color-text);\n",
       "}\n",
       "\n",
       "/* Toggleable content - dropdown */\n",
       "\n",
       "#sk-container-id-1 div.sk-toggleable__content {\n",
       "  max-height: 0;\n",
       "  max-width: 0;\n",
       "  overflow: hidden;\n",
       "  text-align: left;\n",
       "  /* unfitted */\n",
       "  background-color: var(--sklearn-color-unfitted-level-0);\n",
       "}\n",
       "\n",
       "#sk-container-id-1 div.sk-toggleable__content.fitted {\n",
       "  /* fitted */\n",
       "  background-color: var(--sklearn-color-fitted-level-0);\n",
       "}\n",
       "\n",
       "#sk-container-id-1 div.sk-toggleable__content pre {\n",
       "  margin: 0.2em;\n",
       "  border-radius: 0.25em;\n",
       "  color: var(--sklearn-color-text);\n",
       "  /* unfitted */\n",
       "  background-color: var(--sklearn-color-unfitted-level-0);\n",
       "}\n",
       "\n",
       "#sk-container-id-1 div.sk-toggleable__content.fitted pre {\n",
       "  /* unfitted */\n",
       "  background-color: var(--sklearn-color-fitted-level-0);\n",
       "}\n",
       "\n",
       "#sk-container-id-1 input.sk-toggleable__control:checked~div.sk-toggleable__content {\n",
       "  /* Expand drop-down */\n",
       "  max-height: 200px;\n",
       "  max-width: 100%;\n",
       "  overflow: auto;\n",
       "}\n",
       "\n",
       "#sk-container-id-1 input.sk-toggleable__control:checked~label.sk-toggleable__label-arrow:before {\n",
       "  content: \"▾\";\n",
       "}\n",
       "\n",
       "/* Pipeline/ColumnTransformer-specific style */\n",
       "\n",
       "#sk-container-id-1 div.sk-label input.sk-toggleable__control:checked~label.sk-toggleable__label {\n",
       "  color: var(--sklearn-color-text);\n",
       "  background-color: var(--sklearn-color-unfitted-level-2);\n",
       "}\n",
       "\n",
       "#sk-container-id-1 div.sk-label.fitted input.sk-toggleable__control:checked~label.sk-toggleable__label {\n",
       "  background-color: var(--sklearn-color-fitted-level-2);\n",
       "}\n",
       "\n",
       "/* Estimator-specific style */\n",
       "\n",
       "/* Colorize estimator box */\n",
       "#sk-container-id-1 div.sk-estimator input.sk-toggleable__control:checked~label.sk-toggleable__label {\n",
       "  /* unfitted */\n",
       "  background-color: var(--sklearn-color-unfitted-level-2);\n",
       "}\n",
       "\n",
       "#sk-container-id-1 div.sk-estimator.fitted input.sk-toggleable__control:checked~label.sk-toggleable__label {\n",
       "  /* fitted */\n",
       "  background-color: var(--sklearn-color-fitted-level-2);\n",
       "}\n",
       "\n",
       "#sk-container-id-1 div.sk-label label.sk-toggleable__label,\n",
       "#sk-container-id-1 div.sk-label label {\n",
       "  /* The background is the default theme color */\n",
       "  color: var(--sklearn-color-text-on-default-background);\n",
       "}\n",
       "\n",
       "/* On hover, darken the color of the background */\n",
       "#sk-container-id-1 div.sk-label:hover label.sk-toggleable__label {\n",
       "  color: var(--sklearn-color-text);\n",
       "  background-color: var(--sklearn-color-unfitted-level-2);\n",
       "}\n",
       "\n",
       "/* Label box, darken color on hover, fitted */\n",
       "#sk-container-id-1 div.sk-label.fitted:hover label.sk-toggleable__label.fitted {\n",
       "  color: var(--sklearn-color-text);\n",
       "  background-color: var(--sklearn-color-fitted-level-2);\n",
       "}\n",
       "\n",
       "/* Estimator label */\n",
       "\n",
       "#sk-container-id-1 div.sk-label label {\n",
       "  font-family: monospace;\n",
       "  font-weight: bold;\n",
       "  display: inline-block;\n",
       "  line-height: 1.2em;\n",
       "}\n",
       "\n",
       "#sk-container-id-1 div.sk-label-container {\n",
       "  text-align: center;\n",
       "}\n",
       "\n",
       "/* Estimator-specific */\n",
       "#sk-container-id-1 div.sk-estimator {\n",
       "  font-family: monospace;\n",
       "  border: 1px dotted var(--sklearn-color-border-box);\n",
       "  border-radius: 0.25em;\n",
       "  box-sizing: border-box;\n",
       "  margin-bottom: 0.5em;\n",
       "  /* unfitted */\n",
       "  background-color: var(--sklearn-color-unfitted-level-0);\n",
       "}\n",
       "\n",
       "#sk-container-id-1 div.sk-estimator.fitted {\n",
       "  /* fitted */\n",
       "  background-color: var(--sklearn-color-fitted-level-0);\n",
       "}\n",
       "\n",
       "/* on hover */\n",
       "#sk-container-id-1 div.sk-estimator:hover {\n",
       "  /* unfitted */\n",
       "  background-color: var(--sklearn-color-unfitted-level-2);\n",
       "}\n",
       "\n",
       "#sk-container-id-1 div.sk-estimator.fitted:hover {\n",
       "  /* fitted */\n",
       "  background-color: var(--sklearn-color-fitted-level-2);\n",
       "}\n",
       "\n",
       "/* Specification for estimator info (e.g. \"i\" and \"?\") */\n",
       "\n",
       "/* Common style for \"i\" and \"?\" */\n",
       "\n",
       ".sk-estimator-doc-link,\n",
       "a:link.sk-estimator-doc-link,\n",
       "a:visited.sk-estimator-doc-link {\n",
       "  float: right;\n",
       "  font-size: smaller;\n",
       "  line-height: 1em;\n",
       "  font-family: monospace;\n",
       "  background-color: var(--sklearn-color-background);\n",
       "  border-radius: 1em;\n",
       "  height: 1em;\n",
       "  width: 1em;\n",
       "  text-decoration: none !important;\n",
       "  margin-left: 1ex;\n",
       "  /* unfitted */\n",
       "  border: var(--sklearn-color-unfitted-level-1) 1pt solid;\n",
       "  color: var(--sklearn-color-unfitted-level-1);\n",
       "}\n",
       "\n",
       ".sk-estimator-doc-link.fitted,\n",
       "a:link.sk-estimator-doc-link.fitted,\n",
       "a:visited.sk-estimator-doc-link.fitted {\n",
       "  /* fitted */\n",
       "  border: var(--sklearn-color-fitted-level-1) 1pt solid;\n",
       "  color: var(--sklearn-color-fitted-level-1);\n",
       "}\n",
       "\n",
       "/* On hover */\n",
       "div.sk-estimator:hover .sk-estimator-doc-link:hover,\n",
       ".sk-estimator-doc-link:hover,\n",
       "div.sk-label-container:hover .sk-estimator-doc-link:hover,\n",
       ".sk-estimator-doc-link:hover {\n",
       "  /* unfitted */\n",
       "  background-color: var(--sklearn-color-unfitted-level-3);\n",
       "  color: var(--sklearn-color-background);\n",
       "  text-decoration: none;\n",
       "}\n",
       "\n",
       "div.sk-estimator.fitted:hover .sk-estimator-doc-link.fitted:hover,\n",
       ".sk-estimator-doc-link.fitted:hover,\n",
       "div.sk-label-container:hover .sk-estimator-doc-link.fitted:hover,\n",
       ".sk-estimator-doc-link.fitted:hover {\n",
       "  /* fitted */\n",
       "  background-color: var(--sklearn-color-fitted-level-3);\n",
       "  color: var(--sklearn-color-background);\n",
       "  text-decoration: none;\n",
       "}\n",
       "\n",
       "/* Span, style for the box shown on hovering the info icon */\n",
       ".sk-estimator-doc-link span {\n",
       "  display: none;\n",
       "  z-index: 9999;\n",
       "  position: relative;\n",
       "  font-weight: normal;\n",
       "  right: .2ex;\n",
       "  padding: .5ex;\n",
       "  margin: .5ex;\n",
       "  width: min-content;\n",
       "  min-width: 20ex;\n",
       "  max-width: 50ex;\n",
       "  color: var(--sklearn-color-text);\n",
       "  box-shadow: 2pt 2pt 4pt #999;\n",
       "  /* unfitted */\n",
       "  background: var(--sklearn-color-unfitted-level-0);\n",
       "  border: .5pt solid var(--sklearn-color-unfitted-level-3);\n",
       "}\n",
       "\n",
       ".sk-estimator-doc-link.fitted span {\n",
       "  /* fitted */\n",
       "  background: var(--sklearn-color-fitted-level-0);\n",
       "  border: var(--sklearn-color-fitted-level-3);\n",
       "}\n",
       "\n",
       ".sk-estimator-doc-link:hover span {\n",
       "  display: block;\n",
       "}\n",
       "\n",
       "/* \"?\"-specific style due to the `<a>` HTML tag */\n",
       "\n",
       "#sk-container-id-1 a.estimator_doc_link {\n",
       "  float: right;\n",
       "  font-size: 1rem;\n",
       "  line-height: 1em;\n",
       "  font-family: monospace;\n",
       "  background-color: var(--sklearn-color-background);\n",
       "  border-radius: 1rem;\n",
       "  height: 1rem;\n",
       "  width: 1rem;\n",
       "  text-decoration: none;\n",
       "  /* unfitted */\n",
       "  color: var(--sklearn-color-unfitted-level-1);\n",
       "  border: var(--sklearn-color-unfitted-level-1) 1pt solid;\n",
       "}\n",
       "\n",
       "#sk-container-id-1 a.estimator_doc_link.fitted {\n",
       "  /* fitted */\n",
       "  border: var(--sklearn-color-fitted-level-1) 1pt solid;\n",
       "  color: var(--sklearn-color-fitted-level-1);\n",
       "}\n",
       "\n",
       "/* On hover */\n",
       "#sk-container-id-1 a.estimator_doc_link:hover {\n",
       "  /* unfitted */\n",
       "  background-color: var(--sklearn-color-unfitted-level-3);\n",
       "  color: var(--sklearn-color-background);\n",
       "  text-decoration: none;\n",
       "}\n",
       "\n",
       "#sk-container-id-1 a.estimator_doc_link.fitted:hover {\n",
       "  /* fitted */\n",
       "  background-color: var(--sklearn-color-fitted-level-3);\n",
       "}\n",
       "</style><div id=\"sk-container-id-1\" class=\"sk-top-container\"><div class=\"sk-text-repr-fallback\"><pre>ExtraTreesClassifier(n_estimators=200)</pre><b>In a Jupyter environment, please rerun this cell to show the HTML representation or trust the notebook. <br />On GitHub, the HTML representation is unable to render, please try loading this page with nbviewer.org.</b></div><div class=\"sk-container\" hidden><div class=\"sk-item\"><div class=\"sk-estimator fitted sk-toggleable\"><input class=\"sk-toggleable__control sk-hidden--visually\" id=\"sk-estimator-id-1\" type=\"checkbox\" checked><label for=\"sk-estimator-id-1\" class=\"sk-toggleable__label fitted sk-toggleable__label-arrow fitted\">&nbsp;&nbsp;ExtraTreesClassifier<a class=\"sk-estimator-doc-link fitted\" rel=\"noreferrer\" target=\"_blank\" href=\"https://scikit-learn.org/1.5/modules/generated/sklearn.ensemble.ExtraTreesClassifier.html\">?<span>Documentation for ExtraTreesClassifier</span></a><span class=\"sk-estimator-doc-link fitted\">i<span>Fitted</span></span></label><div class=\"sk-toggleable__content fitted\"><pre>ExtraTreesClassifier(n_estimators=200)</pre></div> </div></div></div></div>"
      ],
      "text/plain": [
       "ExtraTreesClassifier(n_estimators=200)"
      ]
     },
     "execution_count": 18,
     "metadata": {},
     "output_type": "execute_result"
    }
   ],
   "source": [
    "'''from sklearn.ensemble import ExtraTreesClassifier\n",
    "e=ExtraTreesClassifier(n_estimators=200)\n",
    "e.fit(x_train, y_train)'''"
   ]
  },
  {
   "cell_type": "code",
   "execution_count": 13,
   "metadata": {},
   "outputs": [],
   "source": [
    "import joblib\n",
    "#loading The models anywhere\n",
    "\n",
    "e=joblib.load('ET_adv_stars_class.pkl')"
   ]
  },
  {
   "cell_type": "code",
   "execution_count": 14,
   "metadata": {},
   "outputs": [
    {
     "data": {
      "text/plain": [
       "1.0"
      ]
     },
     "execution_count": 14,
     "metadata": {},
     "output_type": "execute_result"
    }
   ],
   "source": [
    "e.score(x_train,y_train)"
   ]
  },
  {
   "cell_type": "code",
   "execution_count": 15,
   "metadata": {},
   "outputs": [
    {
     "data": {
      "text/plain": [
       "0.9763"
      ]
     },
     "execution_count": 15,
     "metadata": {},
     "output_type": "execute_result"
    }
   ],
   "source": [
    "e.score(x_test,y_test)"
   ]
  },
  {
   "cell_type": "code",
   "execution_count": 16,
   "metadata": {},
   "outputs": [
    {
     "name": "stderr",
     "output_type": "stream",
     "text": [
      "c:\\Users\\debna\\anaconda3\\Lib\\site-packages\\sklearn\\base.py:493: UserWarning: X does not have valid feature names, but ExtraTreesClassifier was fitted with feature names\n",
      "  warnings.warn(\n"
     ]
    },
    {
     "data": {
      "text/plain": [
       "array(['QSO'], dtype=object)"
      ]
     },
     "execution_count": 16,
     "metadata": {},
     "output_type": "execute_result"
    }
   ],
   "source": [
    "e.predict([[\n",
    "228.447728334265,12.745031931428,22.36261,21.7106,21.5963,21.60179,21.12727,2.689002,5488,56013\n",
    "]])\n"
   ]
  },
  {
   "cell_type": "code",
   "execution_count": 17,
   "metadata": {},
   "outputs": [
    {
     "name": "stderr",
     "output_type": "stream",
     "text": [
      "c:\\Users\\debna\\anaconda3\\Lib\\site-packages\\sklearn\\base.py:493: UserWarning: X does not have valid feature names, but ExtraTreesClassifier was fitted with feature names\n",
      "  warnings.warn(\n"
     ]
    },
    {
     "data": {
      "text/plain": [
       "array(['GALAXY'], dtype=object)"
      ]
     },
     "execution_count": 17,
     "metadata": {},
     "output_type": "execute_result"
    }
   ],
   "source": [
    "e.predict([[ 40.7957426727124,3.56436811387184,22.79262,22.29579,22.23841,21.55672,21.01273,1.065883,9417,58055\n",
    "]])"
   ]
  },
  {
   "cell_type": "code",
   "execution_count": 18,
   "metadata": {},
   "outputs": [
    {
     "name": "stderr",
     "output_type": "stream",
     "text": [
      "c:\\Users\\debna\\anaconda3\\Lib\\site-packages\\sklearn\\base.py:493: UserWarning: X does not have valid feature names, but ExtraTreesClassifier was fitted with feature names\n",
      "  warnings.warn(\n"
     ]
    },
    {
     "data": {
      "text/plain": [
       "array(['STAR'], dtype=object)"
      ]
     },
     "execution_count": 18,
     "metadata": {},
     "output_type": "execute_result"
    }
   ],
   "source": [
    "e.predict([[\n",
    "169.41723647266,7.71984985397181,25.08139,22.03635,21.83119,21.71758,21.24758,0.0002660389,5369,56272\n",
    "]])"
   ]
  },
  {
   "cell_type": "code",
   "execution_count": 19,
   "metadata": {},
   "outputs": [
    {
     "data": {
      "text/plain": [
       "\"#saving The Models\\nimport joblib\\njoblib.dump(e,'ET_adv_stars_class.pkl')\\n\\n#loading The models anywhere\\n\""
      ]
     },
     "execution_count": 19,
     "metadata": {},
     "output_type": "execute_result"
    }
   ],
   "source": [
    "'''#saving The Models\n",
    "import joblib\n",
    "joblib.dump(e,'ET_adv_stars_class.pkl')\n",
    "\n",
    "#loading The models anywhere\n",
    "'''\n"
   ]
  },
  {
   "cell_type": "code",
   "execution_count": 22,
   "metadata": {},
   "outputs": [
    {
     "name": "stdout",
     "output_type": "stream",
     "text": [
      "<class 'sklearn.ensemble._forest.ExtraTreesClassifier'>\n"
     ]
    }
   ],
   "source": [
    "e = joblib.load(\"C:\\\\imp\\\\ml JUPYTER\\\\MY ML PROJECTS(BOOK)\\\\3.Deep learning\\\\ANN\\\\Recreation\\\\space\\\\ADV star class\\\\ET_adv_stars_class.pkl\")\n",
    "print(type(e))  # Add this line to check the type of the loaded object\n"
   ]
  },
  {
   "cell_type": "code",
   "execution_count": null,
   "metadata": {},
   "outputs": [],
   "source": []
  },
  {
   "cell_type": "code",
   "execution_count": null,
   "metadata": {},
   "outputs": [],
   "source": []
  },
  {
   "cell_type": "code",
   "execution_count": null,
   "metadata": {},
   "outputs": [],
   "source": []
  },
  {
   "cell_type": "code",
   "execution_count": null,
   "metadata": {},
   "outputs": [],
   "source": []
  },
  {
   "cell_type": "code",
   "execution_count": null,
   "metadata": {},
   "outputs": [],
   "source": []
  },
  {
   "cell_type": "code",
   "execution_count": null,
   "metadata": {},
   "outputs": [],
   "source": []
  },
  {
   "cell_type": "code",
   "execution_count": null,
   "metadata": {},
   "outputs": [],
   "source": []
  },
  {
   "cell_type": "code",
   "execution_count": null,
   "metadata": {},
   "outputs": [],
   "source": []
  },
  {
   "cell_type": "code",
   "execution_count": null,
   "metadata": {},
   "outputs": [],
   "source": []
  },
  {
   "cell_type": "code",
   "execution_count": null,
   "metadata": {},
   "outputs": [],
   "source": []
  },
  {
   "cell_type": "code",
   "execution_count": null,
   "metadata": {},
   "outputs": [],
   "source": []
  },
  {
   "cell_type": "code",
   "execution_count": null,
   "metadata": {},
   "outputs": [],
   "source": []
  }
 ],
 "metadata": {
  "kernelspec": {
   "display_name": "base",
   "language": "python",
   "name": "python3"
  },
  "language_info": {
   "codemirror_mode": {
    "name": "ipython",
    "version": 3
   },
   "file_extension": ".py",
   "mimetype": "text/x-python",
   "name": "python",
   "nbconvert_exporter": "python",
   "pygments_lexer": "ipython3",
   "version": "3.11.7"
  }
 },
 "nbformat": 4,
 "nbformat_minor": 2
}
